{
 "cells": [
  {
   "cell_type": "markdown",
   "metadata": {},
   "source": [
    ">> This section is the modeling phase for M-1 model"
   ]
  },
  {
   "cell_type": "code",
   "execution_count": 1,
   "metadata": {},
   "outputs": [
    {
     "name": "stderr",
     "output_type": "stream",
     "text": [
      "Using TensorFlow backend.\n"
     ]
    }
   ],
   "source": [
    "'''\n",
    "    Importing required python libraries\n",
    "'''\n",
    "\n",
    "import pandas as pd\n",
    "import numpy as np\n",
    "import os\n",
    "import pickle\n",
    "import matplotlib.pyplot as plt\n",
    "from sklearn.metrics import classification_report\n",
    "from sklearn.utils import shuffle\n",
    "\n",
    "try:\n",
    "    import tensorflow as tf\n",
    "    import keras\n",
    "except:\n",
    "    !pip install tensorflow\n",
    "    !pip install keras\n",
    "    import tensorflow as tf\n",
    "    import keras\n",
    "\n",
    "from keras.callbacks import EarlyStopping, ModelCheckpoint\n",
    "from keras.models import load_model\n",
    "layers = keras.layers\n",
    "\n",
    "pd.set_option('display.max_columns', None)\n",
    "pd.set_option('display.width', 200)\n",
    "\n",
    "import warnings\n",
    "warnings.filterwarnings(\"ignore\")"
   ]
  },
  {
   "cell_type": "code",
   "execution_count": 2,
   "metadata": {},
   "outputs": [
    {
     "name": "stdout",
     "output_type": "stream",
     "text": [
      "# of integer columns: 1046\n",
      "# of float columns: 591\n"
     ]
    }
   ],
   "source": [
    "'''\n",
    "    Reading list of integer and float variables stored in file_list directory\n",
    "    Also naming out model and history file\n",
    "'''\n",
    "\n",
    "cols_to_drop = ['memshpno', 'score']\n",
    "\n",
    "_int = pd.read_csv('file_list/int_var.txt', header=None)\n",
    "_int = list(_int[0])\n",
    "print('# of integer columns: {}'.format(len(_int)))\n",
    "\n",
    "_float = pd.read_csv('file_list/float_var.txt', header=None)\n",
    "_float = list(_float[0])\n",
    "print('# of float columns: {}'.format(len(_float)))\n",
    "\n",
    "model_name = 'best_model_m1.h5'\n",
    "history_file = 'model_history/trainHistory_m1'"
   ]
  },
  {
   "cell_type": "code",
   "execution_count": 3,
   "metadata": {},
   "outputs": [],
   "source": [
    "'''\n",
    "    This chunk imports the lists of training and validation file names stored during preprocessing\n",
    "'''\n",
    "\n",
    "train_files = pd.read_csv('file_list/train_files.txt', header=None)\n",
    "train_files = list(train_files[0])\n",
    "validation_files = pd.read_csv('file_list/validation_files.txt', header=None)\n",
    "validation_files = list(validation_files[0])"
   ]
  },
  {
   "cell_type": "code",
   "execution_count": 4,
   "metadata": {},
   "outputs": [],
   "source": [
    "''' \n",
    "    Generator Function reads csvs from list with each csv individually read in chunks of 4000 records \n",
    "'''\n",
    "\n",
    "def train_generator(file_list):\n",
    "    import os\n",
    "    while True:\n",
    "        for i in range(len(file_list)):\n",
    "            df = pd.read_csv(file_list[i], chunksize=4000)\n",
    "            for chunk in df:\n",
    "                chunk = chunk.fillna(0)\n",
    "                label = chunk['score']\n",
    "                chunk.drop(cols_to_drop, axis=1, inplace=True)\n",
    "                deep = chunk[_float]\n",
    "                wide = chunk[_int]\n",
    "                inputs = [wide.values, deep.values]\n",
    "                yield inputs, label"
   ]
  },
  {
   "cell_type": "code",
   "execution_count": 5,
   "metadata": {},
   "outputs": [],
   "source": [
    "''' \n",
    "    Generator Function reads csvs from list with each csv individually read in chunks of 4000 records \n",
    "'''\n",
    "\n",
    "def generator(file_list):\n",
    "    import os\n",
    "    while True:\n",
    "        for i in range(len(file_list)):\n",
    "            df = pd.read_csv(file_list[i], chunksize=4000)\n",
    "            for chunk in df:\n",
    "                chunk = chunk.fillna(0)\n",
    "                label = chunk['score']\n",
    "                chunk.drop(cols_to_drop, axis=1, inplace=True)\n",
    "                deep = chunk[_float]\n",
    "                wide = chunk[_int]\n",
    "                inputs = [wide.values, deep.values]\n",
    "                yield inputs, label"
   ]
  },
  {
   "cell_type": "code",
   "execution_count": 6,
   "metadata": {},
   "outputs": [
    {
     "name": "stdout",
     "output_type": "stream",
     "text": [
      "WARNING:tensorflow:From /home/ec2-user/anaconda3/envs/python3/lib/python3.6/site-packages/tensorflow/python/framework/op_def_library.py:263: colocate_with (from tensorflow.python.framework.ops) is deprecated and will be removed in a future version.\n",
      "Instructions for updating:\n",
      "Colocations handled automatically by placer.\n"
     ]
    }
   ],
   "source": [
    "''' \n",
    "    Keras model architecture (deep and wide architecture)\n",
    "'''\n",
    "\n",
    "wide_inputs = layers.Input(shape=(len(_int),))\n",
    "wide_inputs_1 = layers.Dense(128, activation='relu')(wide_inputs)\n",
    "wide_inputs_2 = layers.Dense(64, activation='relu')(wide_inputs_1)\n",
    "wide_inputs_3 = layers.Dense(32, activation='relu')(wide_inputs_2)\n",
    "\n",
    "dense_inputs = layers.Input(shape=(len(_float),))\n",
    "dense_inputs_1 = layers.Dense(128, activation='relu')(dense_inputs)\n",
    "dense_inputs_2 = layers.Dense(64, activation='relu')(dense_inputs_1)\n",
    "dense_inputs_3 = layers.Dense(32, activation='relu')(dense_inputs_2)\n",
    "\n",
    "merge = layers.concatenate([wide_inputs_3, dense_inputs_3])\n",
    "\n",
    "hidden1 = layers.Dense(32, activation='relu')(merge)\n",
    "hidden2 = layers.Dense(16, activation='relu')(hidden1)\n",
    "output = layers.Dense(1, activation='linear')(hidden2)\n",
    "\n",
    "model = keras.Model(inputs=[wide_inputs, dense_inputs], outputs=output)\n",
    "model.compile(loss='mean_squared_error', optimizer='adam', metrics=['mean_absolute_error', 'mean_squared_error'])"
   ]
  },
  {
   "cell_type": "code",
   "execution_count": 7,
   "metadata": {
    "scrolled": true
   },
   "outputs": [
    {
     "name": "stdout",
     "output_type": "stream",
     "text": [
      "__________________________________________________________________________________________________\n",
      "Layer (type)                    Output Shape         Param #     Connected to                     \n",
      "==================================================================================================\n",
      "input_1 (InputLayer)            (None, 1046)         0                                            \n",
      "__________________________________________________________________________________________________\n",
      "input_2 (InputLayer)            (None, 591)          0                                            \n",
      "__________________________________________________________________________________________________\n",
      "dense_1 (Dense)                 (None, 128)          134016      input_1[0][0]                    \n",
      "__________________________________________________________________________________________________\n",
      "dense_4 (Dense)                 (None, 128)          75776       input_2[0][0]                    \n",
      "__________________________________________________________________________________________________\n",
      "dense_2 (Dense)                 (None, 64)           8256        dense_1[0][0]                    \n",
      "__________________________________________________________________________________________________\n",
      "dense_5 (Dense)                 (None, 64)           8256        dense_4[0][0]                    \n",
      "__________________________________________________________________________________________________\n",
      "dense_3 (Dense)                 (None, 32)           2080        dense_2[0][0]                    \n",
      "__________________________________________________________________________________________________\n",
      "dense_6 (Dense)                 (None, 32)           2080        dense_5[0][0]                    \n",
      "__________________________________________________________________________________________________\n",
      "concatenate_1 (Concatenate)     (None, 64)           0           dense_3[0][0]                    \n",
      "                                                                 dense_6[0][0]                    \n",
      "__________________________________________________________________________________________________\n",
      "dense_7 (Dense)                 (None, 32)           2080        concatenate_1[0][0]              \n",
      "__________________________________________________________________________________________________\n",
      "dense_8 (Dense)                 (None, 16)           528         dense_7[0][0]                    \n",
      "__________________________________________________________________________________________________\n",
      "dense_9 (Dense)                 (None, 1)            17          dense_8[0][0]                    \n",
      "==================================================================================================\n",
      "Total params: 233,089\n",
      "Trainable params: 233,089\n",
      "Non-trainable params: 0\n",
      "__________________________________________________________________________________________________\n"
     ]
    }
   ],
   "source": [
    "''' \n",
    "    Visualizing model architecture\n",
    "'''\n",
    "\n",
    "model.summary()"
   ]
  },
  {
   "cell_type": "code",
   "execution_count": 8,
   "metadata": {},
   "outputs": [],
   "source": [
    "''' \n",
    "    Initializing train and validation generators\n",
    "'''\n",
    "\n",
    "train_g = train_generator(train_files)\n",
    "validation_g = generator(validation_files)"
   ]
  },
  {
   "cell_type": "code",
   "execution_count": 9,
   "metadata": {},
   "outputs": [],
   "source": [
    "''' \n",
    "    Early Stopping and Call Backs \n",
    "'''\n",
    "\n",
    "model_path = \"model\"\n",
    "path = os.path.join(model_path, model_name)\n",
    "callbacks = [EarlyStopping(monitor='val_loss', patience=3), \n",
    "                 ModelCheckpoint(filepath=path, monitor='val_loss', save_best_only=True)]"
   ]
  },
  {
   "cell_type": "code",
   "execution_count": null,
   "metadata": {},
   "outputs": [
    {
     "name": "stdout",
     "output_type": "stream",
     "text": [
      "WARNING:tensorflow:From /home/ec2-user/anaconda3/envs/python3/lib/python3.6/site-packages/tensorflow/python/ops/math_ops.py:3066: to_int32 (from tensorflow.python.ops.math_ops) is deprecated and will be removed in a future version.\n",
      "Instructions for updating:\n",
      "Use tf.cast instead.\n",
      "Epoch 1/10\n",
      "720/720 [==============================] - 739s 1s/step - loss: 0.0157 - mean_absolute_error: 0.0772 - mean_squared_error: 0.0157 - val_loss: 0.0163 - val_mean_absolute_error: 0.0827 - val_mean_squared_error: 0.0163\n",
      "Epoch 6/10\n",
      "720/720 [==============================] - 731s 1s/step - loss: 0.0157 - mean_absolute_error: 0.0770 - mean_squared_error: 0.0157 - val_loss: 0.0163 - val_mean_absolute_error: 0.0833 - val_mean_squared_error: 0.0163\n"
     ]
    }
   ],
   "source": [
    "''' \n",
    "    Model execution\n",
    "'''\n",
    "\n",
    "final_model = model.fit_generator(train_g, epochs=10, steps_per_epoch=(len(train_files)*4), \\\n",
    "                                  validation_data=validation_g, validation_steps=(len(validation_files)*4), \\\n",
    "                                 callbacks=callbacks, max_q_size=1, use_multiprocessing=True)"
   ]
  },
  {
   "cell_type": "code",
   "execution_count": null,
   "metadata": {},
   "outputs": [],
   "source": [
    "''' \n",
    "    Saving model history for future visualization\n",
    "'''\n",
    "\n",
    "with open(history_file, 'wb') as handle: \n",
    "    pickle.dump(final_model.history, handle)"
   ]
  },
  {
   "cell_type": "code",
   "execution_count": null,
   "metadata": {},
   "outputs": [
    {
     "data": {
      "image/png": "[encoded data removed]",
      "text/plain": [
       "<Figure size 432x288 with 1 Axes>"
      ]
     },
     "metadata": {},
     "output_type": "display_data"
    }
   ],
   "source": [
    "''' \n",
    "    Plotting training and validation mean squared error\n",
    "'''\n",
    "\n",
    "training_loss = final_model.history['loss']\n",
    "test_loss = final_model.history['val_loss']\n",
    "\n",
    "epoch_count = range(1, len(training_loss) + 1)\n",
    "\n",
    "plt.plot(epoch_count, training_loss, 'r--')\n",
    "plt.plot(epoch_count, test_loss, 'b-')\n",
    "plt.legend(['Training Loss', 'Test Loss'])\n",
    "plt.xlabel('Epoch')\n",
    "plt.ylabel('Loss')\n",
    "plt.show();"
   ]
  },
  {
   "cell_type": "code",
   "execution_count": null,
   "metadata": {},
   "outputs": [
    {
     "data": {
      "image/png": "[encoded data removed]",
      "text/plain": [
       "<Figure size 432x288 with 1 Axes>"
      ]
     },
     "metadata": {},
     "output_type": "display_data"
    }
   ],
   "source": [
    "''' \n",
    "    Plotting training and validation mean_absolute_error\n",
    "'''\n",
    "\n",
    "training_acc = final_model.history['mean_absolute_error']\n",
    "test_acc = final_model.history['val_mean_absolute_error']\n",
    "\n",
    "epoch_count = range(1, len(training_acc) + 1)\n",
    "\n",
    "plt.plot(epoch_count, training_acc, 'r--')\n",
    "plt.plot(epoch_count, test_acc, 'b-')\n",
    "plt.legend(['Training Mean Absolute Error', 'Test Mean Absolute Error'])\n",
    "plt.xlabel('Epoch')\n",
    "plt.ylabel('Mean Absolute Error')\n",
    "plt.show();"
   ]
  },
  {
   "cell_type": "markdown",
   "metadata": {},
   "source": [
    "# Test Section"
   ]
  },
  {
   "cell_type": "markdown",
   "metadata": {},
   "source": [
    ">> This is the test section where unseen test data is predicted through the M-1 model created in previous section. Following section extract labels on the validation dataset as well"
   ]
  },
  {
   "cell_type": "code",
   "execution_count": 1,
   "metadata": {},
   "outputs": [
    {
     "name": "stderr",
     "output_type": "stream",
     "text": [
      "Using TensorFlow backend.\n"
     ]
    }
   ],
   "source": [
    "'''\n",
    "    Importing required python libraries\n",
    "'''\n",
    "\n",
    "import pandas as pd\n",
    "import numpy as np\n",
    "import os\n",
    "import pickle\n",
    "import matplotlib.pyplot as plt\n",
    "from sklearn.metrics import classification_report\n",
    "from sklearn.utils import shuffle\n",
    "\n",
    "try:\n",
    "    import tensorflow as tf\n",
    "    import keras\n",
    "except:\n",
    "    !pip install tensorflow\n",
    "    !pip install keras\n",
    "    import tensorflow as tf\n",
    "    import keras\n",
    "\n",
    "from keras.callbacks import EarlyStopping, ModelCheckpoint\n",
    "from keras.models import load_model\n",
    "layers = keras.layers\n",
    "\n",
    "pd.set_option('display.max_columns', None)\n",
    "pd.set_option('display.width', 200)\n",
    "\n",
    "import warnings\n",
    "warnings.filterwarnings(\"ignore\")"
   ]
  },
  {
   "cell_type": "code",
   "execution_count": 2,
   "metadata": {},
   "outputs": [
    {
     "name": "stdout",
     "output_type": "stream",
     "text": [
      "# of integer columns: 1046\n",
      "# of float columns: 591\n"
     ]
    }
   ],
   "source": [
    "'''\n",
    "    Reading list of integer and float variables stored in file_list directory\n",
    "    Also naming out model and history file\n",
    "'''\n",
    "\n",
    "cols_to_drop = ['memshpno', 'score']\n",
    "\n",
    "_int = pd.read_csv('file_list/int_var.txt', header=None)\n",
    "_int = list(_int[0])\n",
    "print('# of integer columns: {}'.format(len(_int)))\n",
    "\n",
    "_float = pd.read_csv('file_list/float_var.txt', header=None)\n",
    "_float = list(_float[0])\n",
    "print('# of float columns: {}'.format(len(_float)))\n",
    "\n",
    "model_name = 'best_model_m1.h5'\n",
    "history_file = 'model_history/trainHistory_m1'"
   ]
  },
  {
   "cell_type": "code",
   "execution_count": 3,
   "metadata": {},
   "outputs": [],
   "source": [
    "''' \n",
    "    Generator Function reads csvs from list with each csv individually read in chunks of 4000 records \n",
    "'''\n",
    "\n",
    "def generator(file_list):\n",
    "    import os\n",
    "    while True:\n",
    "        for i in range(len(file_list)):\n",
    "            df = pd.read_csv(file_list[i], chunksize=4000)\n",
    "            for chunk in df:\n",
    "                chunk = chunk.fillna(0)\n",
    "                label = chunk['score']\n",
    "                chunk.drop(cols_to_drop, axis=1, inplace=True)\n",
    "                deep = chunk[_float]\n",
    "                wide = chunk[_int]\n",
    "                inputs = [wide.values, deep.values]\n",
    "                yield inputs, label"
   ]
  },
  {
   "cell_type": "code",
   "execution_count": 4,
   "metadata": {},
   "outputs": [
    {
     "data": {
      "image/png": "[encoded data removed]",
      "text/plain": [
       "<Figure size 432x288 with 1 Axes>"
      ]
     },
     "metadata": {},
     "output_type": "display_data"
    },
    {
     "data": {
      "image/png": "[encoded data removed]",
      "text/plain": [
       "<Figure size 432x288 with 1 Axes>"
      ]
     },
     "metadata": {},
     "output_type": "display_data"
    }
   ],
   "source": [
    "''' \n",
    "    Plotting training and validation mean_squared_error and mean_absolute_error\n",
    "'''\n",
    "\n",
    "try:\n",
    "    history = pickle.load(open(history_file, 'rb'))\n",
    "\n",
    "    # plot training and validation loss\n",
    "    training_loss = history['loss']\n",
    "    test_loss = history['val_loss']\n",
    "\n",
    "    epoch_count = range(1, len(training_loss) + 1)\n",
    "\n",
    "    plt.plot(epoch_count, training_loss, 'r--')\n",
    "    plt.plot(epoch_count, test_loss, 'b-')\n",
    "    plt.legend(['Training Loss', 'Test Loss'])\n",
    "    plt.xlabel('Epoch')\n",
    "    plt.ylabel('Loss')\n",
    "    plt.show();\n",
    "\n",
    "    # Get training and validation accuracies\n",
    "    training_acc = history['mean_absolute_error']\n",
    "    test_acc = history['val_mean_absolute_error']\n",
    "\n",
    "    epoch_count = range(1, len(training_acc) + 1)\n",
    "\n",
    "    plt.plot(epoch_count, training_acc, 'r--')\n",
    "    plt.plot(epoch_count, test_acc, 'b-')\n",
    "    plt.legend(['Training Mean Absolute Error', 'Test Mean Absolute Error'])\n",
    "    plt.xlabel('Epoch')\n",
    "    plt.ylabel('Mean Absolute Error')\n",
    "    plt.show();\n",
    "except:\n",
    "    pass"
   ]
  },
  {
   "cell_type": "code",
   "execution_count": 5,
   "metadata": {},
   "outputs": [],
   "source": [
    "'''\n",
    "    This chunk imports the lists of test file names stored during preprocessing\n",
    "'''\n",
    "\n",
    "test_files = pd.read_csv('file_list/test_files.txt', header=None)\n",
    "test_files = list(test_files[0])"
   ]
  },
  {
   "cell_type": "code",
   "execution_count": 6,
   "metadata": {},
   "outputs": [
    {
     "name": "stdout",
     "output_type": "stream",
     "text": [
      "WARNING:tensorflow:From /home/ec2-user/anaconda3/envs/python3/lib/python3.6/site-packages/tensorflow/python/framework/op_def_library.py:263: colocate_with (from tensorflow.python.framework.ops) is deprecated and will be removed in a future version.\n",
      "Instructions for updating:\n",
      "Colocations handled automatically by placer.\n",
      "WARNING:tensorflow:From /home/ec2-user/anaconda3/envs/python3/lib/python3.6/site-packages/tensorflow/python/ops/math_ops.py:3066: to_int32 (from tensorflow.python.ops.math_ops) is deprecated and will be removed in a future version.\n",
      "Instructions for updating:\n",
      "Use tf.cast instead.\n"
     ]
    }
   ],
   "source": [
    "'''\n",
    "    Loading model and initializing test generator\n",
    "'''\n",
    "\n",
    "model_path = \"model\"\n",
    "model = load_model(os.path.join(model_path, model_name))\n",
    "test_generator = generator(test_files)"
   ]
  },
  {
   "cell_type": "code",
   "execution_count": null,
   "metadata": {},
   "outputs": [],
   "source": [
    "'''\n",
    "    Loading original test labels for comparison with predictions\n",
    "'''\n",
    "\n",
    "original_labels = pd.read_csv('file_list/test_labels.csv')"
   ]
  },
  {
   "cell_type": "code",
   "execution_count": 8,
   "metadata": {},
   "outputs": [
    {
     "name": "stdout",
     "output_type": "stream",
     "text": [
      "40/40 [==============================] - 104s 3s/step\n"
     ]
    }
   ],
   "source": [
    "'''\n",
    "    Predicitons\n",
    "'''\n",
    "\n",
    "predictions = model.predict_generator(test_generator, steps=len(test_files)*4, verbose=1)"
   ]
  },
  {
   "cell_type": "code",
   "execution_count": null,
   "metadata": {},
   "outputs": [],
   "source": [
    "'''\n",
    "    Adding predictions to original labels\n",
    "'''\n",
    "\n",
    "original_labels['propensity'] = predictions"
   ]
  },
  {
   "cell_type": "code",
   "execution_count": 10,
   "metadata": {},
   "outputs": [
    {
     "data": {
      "text/plain": [
       "0.016254119555781942"
      ]
     },
     "execution_count": 10,
     "metadata": {},
     "output_type": "execute_result"
    }
   ],
   "source": [
    "'''\n",
    "    Mean_square_error on test set\n",
    "'''\n",
    "\n",
    "from sklearn.metrics import mean_squared_error\n",
    "mean_squared_error(original_labels.score, original_labels.propensity)"
   ]
  },
  {
   "cell_type": "markdown",
   "metadata": {},
   "source": [
    "# Loss on Validation Set"
   ]
  },
  {
   "cell_type": "code",
   "execution_count": 11,
   "metadata": {},
   "outputs": [],
   "source": [
    "'''\n",
    "    This chunk imports the lists of validation file names store during preprocessing\n",
    "'''\n",
    "\n",
    "test_files = pd.read_csv('file_list/validation_files.txt', header=None)\n",
    "test_files = list(test_files[0])"
   ]
  },
  {
   "cell_type": "code",
   "execution_count": 12,
   "metadata": {},
   "outputs": [],
   "source": [
    "'''\n",
    "    Loading model and initializing test generator\n",
    "'''\n",
    "\n",
    "model_path = \"model\"\n",
    "model = load_model(os.path.join(model_path, model_name))\n",
    "test_generator = generator(test_files)"
   ]
  },
  {
   "cell_type": "code",
   "execution_count": null,
   "metadata": {},
   "outputs": [],
   "source": [
    "'''\n",
    "    Loading original test labels for comparison with predictions\n",
    "'''\n",
    "\n",
    "original_labels = pd.read_csv('file_list/validation_labels.csv')"
   ]
  },
  {
   "cell_type": "code",
   "execution_count": 14,
   "metadata": {},
   "outputs": [
    {
     "name": "stdout",
     "output_type": "stream",
     "text": [
      "40/40 [==============================] - 32s 801ms/step\n"
     ]
    }
   ],
   "source": [
    "'''\n",
    "    Predicitons\n",
    "'''\n",
    "\n",
    "predictions = model.predict_generator(test_generator, steps=len(test_files)*4, verbose=1)"
   ]
  },
  {
   "cell_type": "code",
   "execution_count": null,
   "metadata": {},
   "outputs": [],
   "source": [
    "'''\n",
    "    Adding predictions to original labels\n",
    "'''\n",
    "\n",
    "original_labels['propensity'] = predictions"
   ]
  },
  {
   "cell_type": "code",
   "execution_count": 16,
   "metadata": {},
   "outputs": [
    {
     "data": {
      "text/plain": [
       "0.01627688585308819"
      ]
     },
     "execution_count": 16,
     "metadata": {},
     "output_type": "execute_result"
    }
   ],
   "source": [
    "'''\n",
    "    Mean_square_error on validation set\n",
    "'''\n",
    "\n",
    "mean_squared_error(original_labels.score, original_labels.propensity)"
   ]
  }
 ],
 "metadata": {
  "kernelspec": {
   "display_name": "Python 3",
   "language": "python",
   "name": "python3"
  },
  "language_info": {
   "codemirror_mode": {
    "name": "ipython",
    "version": 3
   },
   "file_extension": ".py",
   "mimetype": "text/x-python",
   "name": "python",
   "nbconvert_exporter": "python",
   "pygments_lexer": "ipython3",
   "version": "3.7.3"
  }
 },
 "nbformat": 4,
 "nbformat_minor": 2
}
