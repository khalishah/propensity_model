{
 "cells": [
  {
   "cell_type": "code",
   "execution_count": 1,
   "metadata": {},
   "outputs": [
    {
     "name": "stderr",
     "output_type": "stream",
     "text": [
      "Using TensorFlow backend.\n"
     ]
    },
    {
     "name": "stdout",
     "output_type": "stream",
     "text": [
      "Collecting tqdm\n",
      "  Using cached https://files.pythonhosted.org/packages/6c/4b/c38b5144cf167c4f52288517436ccafefe9dc01b8d1c190e18a6b154cd4a/tqdm-4.31.1-py2.py3-none-any.whl\n",
      "Installing collected packages: tqdm\n",
      "Successfully installed tqdm-4.31.1\n",
      "\u001b[33mYou are using pip version 10.0.1, however version 19.0.3 is available.\n",
      "You should consider upgrading via the 'pip install --upgrade pip' command.\u001b[0m\n"
     ]
    }
   ],
   "source": [
    "import numpy as np\n",
    "\n",
    "import tensorflow as tf\n",
    "import keras\n",
    "import pandas as pd\n",
    "try:\n",
    "    from tqdm import tqdm\n",
    "except:\n",
    "    !pip install tqdm\n",
    "    from tqdm import tqdm\n",
    "import numpy as np\n",
    "# from sklearn.decomposition import IncrementalPCA\n",
    "import matplotlib.pyplot as plt\n",
    "import seaborn as sns\n",
    "from sklearn.preprocessing import MinMaxScaler\n",
    "sns.set(rc={'figure.figsize':(20,10)})\n",
    "pd.set_option('display.max_columns', 100)\n",
    "sns.set(font_scale=1.5)"
   ]
  },
  {
   "cell_type": "code",
   "execution_count": 2,
   "metadata": {},
   "outputs": [],
   "source": [
    "import os\n",
    "data_dir = \"el_train/\"\n",
    "filenames = [[data_dir+x] for x in os.listdir(data_dir) if \"csv\" in x]"
   ]
  },
  {
   "cell_type": "code",
   "execution_count": 3,
   "metadata": {},
   "outputs": [
    {
     "data": {
      "text/plain": [
       "2400"
      ]
     },
     "execution_count": 3,
     "metadata": {},
     "output_type": "execute_result"
    }
   ],
   "source": [
    "len(filenames)"
   ]
  },
  {
   "cell_type": "code",
   "execution_count": 4,
   "metadata": {},
   "outputs": [
    {
     "data": {
      "text/plain": [
       "75"
      ]
     },
     "execution_count": 4,
     "metadata": {},
     "output_type": "execute_result"
    }
   ],
   "source": [
    "len(pd.read_csv(filenames[0][0], nrows=1).columns)"
   ]
  },
  {
   "cell_type": "code",
   "execution_count": 5,
   "metadata": {},
   "outputs": [],
   "source": [
    "# ['memshpno', 'BrndMon1', 'BrndMon2', 'BrndMon3', 'BrndMon4', 'BrndMon5', 'BrndMon6', 'BrndMon7', 'BrndMon8', 'BrndMon9', 'BrndMon10', 'BrndMon11', 'BrndMon12', 'CompMon1', 'CompMon2', 'CompMon3', 'CompMon4', 'CompMon5', 'CompMon6', 'CompMon7', 'CompMon8', 'CompMon9', 'CompMon10', 'CompMon11', 'CompMon12', 'Num_of_unique_brands_bought_qtr_1', 'Total_num_of_receipts_qtr_1', 'Num_of_unique_products_bought_qtr_1', 'Total_amount_spent_qtr_1', 'Num_of_times_availed_discount_qtr_1', 'Time_since_first_purchase_qtr_1', 'Time_since_last_purchase_qtr_1', 'Num_of_unique_brands_bought_qtr_2', 'Total_num_of_receipts_qtr_2', 'Num_of_unique_products_bought_qtr_2', 'Total_amount_spent_qtr_2', 'Num_of_times_availed_discount_qtr_2', 'Time_since_first_purchase_qtr_2', 'Time_since_last_purchase_qtr_2', 'Num_of_unique_brands_bought_qtr_3', 'Total_num_of_receipts_qtr_3', 'Num_of_unique_products_bought_qtr_3', 'Total_amount_spent_qtr_3', 'Num_of_times_availed_discount_qtr_3',\n",
    "# 'Time_since_first_purchase_qtr_3', 'Time_since_last_purchase_qtr_3', 'Num_of_unique_brands_bought_qtr_4', 'Total_num_of_receipts_qtr_4', 'Num_of_unique_products_bought_qtr_4', 'Total_amount_spent_qtr_4', 'Num_of_times_availed_discount_qtr_4', 'Time_since_first_purchase_qtr_4', 'Time_since_last_purchase_qtr_4', 'target_month', 'label']"
   ]
  },
  {
   "cell_type": "code",
   "execution_count": 6,
   "metadata": {},
   "outputs": [],
   "source": [
    "cols_to_read = list(pd.read_csv(filenames[0][0], nrows=1).columns)\n",
    "columnsToUse = list(pd.read_csv(filenames[0][0], nrows=1).columns)\n",
    "\n",
    "columnsToUse.pop(columnsToUse.index(\"memshpno\"))\n",
    "columnsToUse.pop(columnsToUse.index(\"target_month\"))\n",
    "\n",
    "labelColumn = \"label\"\n",
    "recordDefaults = [[0.0] for col in columnsToUse]\n",
    "\n",
    "select_cols = [i for i,x in enumerate(pd.read_csv(filenames[0][0], nrows=1).columns) if x in columnsToUse]"
   ]
  },
  {
   "cell_type": "code",
   "execution_count": 7,
   "metadata": {},
   "outputs": [],
   "source": [
    "cols = np.array(columnsToUse[:-1])"
   ]
  },
  {
   "cell_type": "code",
   "execution_count": 8,
   "metadata": {},
   "outputs": [
    {
     "data": {
      "text/plain": [
       "(72,)"
      ]
     },
     "execution_count": 8,
     "metadata": {},
     "output_type": "execute_result"
    }
   ],
   "source": [
    "cols.shape"
   ]
  },
  {
   "cell_type": "code",
   "execution_count": 9,
   "metadata": {},
   "outputs": [
    {
     "data": {
      "text/plain": [
       "array(['el_products_bought_mon1', 'unique_receipts_mon1',\n",
       "       'unique_products_bought_mon1', 'amount_spent_mon1',\n",
       "       'discount_on_beauty_products_mon1', 'times_availed_discount_mon1',\n",
       "       'el_products_bought_mon2', 'unique_receipts_mon2',\n",
       "       'unique_products_bought_mon2', 'amount_spent_mon2',\n",
       "       'discount_on_beauty_products_mon2', 'times_availed_discount_mon2',\n",
       "       'el_products_bought_mon3', 'unique_receipts_mon3',\n",
       "       'unique_products_bought_mon3', 'amount_spent_mon3',\n",
       "       'discount_on_beauty_products_mon3', 'times_availed_discount_mon3',\n",
       "       'el_products_bought_mon4', 'unique_receipts_mon4',\n",
       "       'unique_products_bought_mon4', 'amount_spent_mon4',\n",
       "       'discount_on_beauty_products_mon4', 'times_availed_discount_mon4',\n",
       "       'el_products_bought_mon5', 'unique_receipts_mon5',\n",
       "       'unique_products_bought_mon5', 'amount_spent_mon5',\n",
       "       'discount_on_beauty_products_mon5', 'times_availed_discount_mon5',\n",
       "       'el_products_bought_mon6', 'unique_receipts_mon6',\n",
       "       'unique_products_bought_mon6', 'amount_spent_mon6',\n",
       "       'discount_on_beauty_products_mon6', 'times_availed_discount_mon6',\n",
       "       'el_products_bought_mon7', 'unique_receipts_mon7',\n",
       "       'unique_products_bought_mon7', 'amount_spent_mon7',\n",
       "       'discount_on_beauty_products_mon7', 'times_availed_discount_mon7',\n",
       "       'el_products_bought_mon8', 'unique_receipts_mon8',\n",
       "       'unique_products_bought_mon8', 'amount_spent_mon8',\n",
       "       'discount_on_beauty_products_mon8', 'times_availed_discount_mon8',\n",
       "       'el_products_bought_mon9', 'unique_receipts_mon9',\n",
       "       'unique_products_bought_mon9', 'amount_spent_mon9',\n",
       "       'discount_on_beauty_products_mon9', 'times_availed_discount_mon9',\n",
       "       'el_products_bought_mon10', 'unique_receipts_mon10',\n",
       "       'unique_products_bought_mon10', 'amount_spent_mon10',\n",
       "       'discount_on_beauty_products_mon10',\n",
       "       'times_availed_discount_mon10', 'el_products_bought_mon11',\n",
       "       'unique_receipts_mon11', 'unique_products_bought_mon11',\n",
       "       'amount_spent_mon11', 'discount_on_beauty_products_mon11',\n",
       "       'times_availed_discount_mon11', 'el_products_bought_mon12',\n",
       "       'unique_receipts_mon12', 'unique_products_bought_mon12',\n",
       "       'amount_spent_mon12', 'discount_on_beauty_products_mon12',\n",
       "       'times_availed_discount_mon12'], dtype='|S33')"
      ]
     },
     "execution_count": 9,
     "metadata": {},
     "output_type": "execute_result"
    }
   ],
   "source": [
    "cols"
   ]
  },
  {
   "cell_type": "code",
   "execution_count": 10,
   "metadata": {},
   "outputs": [],
   "source": [
    "# Timeseries\n",
    "# Aggregate to month\n",
    "# Category Specifc/Brand Specific\n",
    "\n",
    "# Try both Category"
   ]
  },
  {
   "cell_type": "code",
   "execution_count": 11,
   "metadata": {},
   "outputs": [
    {
     "data": {
      "text/plain": [
       "44255"
      ]
     },
     "execution_count": 11,
     "metadata": {},
     "output_type": "execute_result"
    }
   ],
   "source": [
    "b_size = 1024\n",
    "\n",
    "total_examples = 442553\n",
    "\n",
    "test_examples = total_examples//10\n",
    "\n",
    "test_examples"
   ]
  },
  {
   "cell_type": "code",
   "execution_count": 12,
   "metadata": {},
   "outputs": [],
   "source": [
    "def read_dataset(filenames, b_size=1024, split=10000):\n",
    "    def decode_csv(value_column):\n",
    "        columns = tf.decode_csv(value_column, record_defaults=recordDefaults, select_cols=select_cols)\n",
    "        ts = columns[:-1]\n",
    "        label = columns[-1]\n",
    "        return ts, label\n",
    "\n",
    "    # Create dataset from file list\n",
    "    dataset = tf.data.Dataset.from_tensor_slices(filenames)\n",
    "    dataset = dataset.flat_map(lambda filename: tf.data.TextLineDataset(filename).skip(1))\n",
    "    dataset = dataset.map(decode_csv)  # Transform each elem by applying decode_csv fn\n",
    "\n",
    "    if True:\n",
    "        num_epochs = None # indefinitely\n",
    "    else:\n",
    "        num_epochs = 1 # end-of-input after this\n",
    "\n",
    "    dataset = dataset.shuffle(10240)\n",
    "    test_data = dataset.take(split)\n",
    "    train_data = dataset.skip(split)\n",
    "\n",
    "    test_data = test_data.repeat(num_epochs).batch(b_size)\n",
    "    train_data = train_data.repeat(num_epochs).batch(b_size)\n",
    "\n",
    "    test_iterator = test_data.make_one_shot_iterator()\n",
    "    train_iterator = train_data.make_one_shot_iterator()\n",
    "\n",
    "    def make_gen_from_iterator(osi):\n",
    "        sess = tf.Session()\n",
    "        next_val = osi.get_next()\n",
    "        while True:\n",
    "            with sess.as_default():\n",
    "                ts, labels = sess.run(next_val)\n",
    "                ts = np.reshape(ts, newshape=(-1,12,6))\n",
    "                yield ts, labels\n",
    "\n",
    "    test_gen = make_gen_from_iterator(test_iterator)\n",
    "    train_gen = make_gen_from_iterator(train_iterator)\n",
    "    \n",
    "    return train_gen, test_gen"
   ]
  },
  {
   "cell_type": "code",
   "execution_count": 13,
   "metadata": {},
   "outputs": [],
   "source": [
    "train_gen, test_gen = read_dataset(filenames=filenames, b_size=b_size, split=test_examples)"
   ]
  },
  {
   "cell_type": "code",
   "execution_count": 14,
   "metadata": {},
   "outputs": [],
   "source": [
    "temp = train_gen.next()"
   ]
  },
  {
   "cell_type": "code",
   "execution_count": 15,
   "metadata": {},
   "outputs": [
    {
     "data": {
      "text/plain": [
       "(1024, 12, 6)"
      ]
     },
     "execution_count": 15,
     "metadata": {},
     "output_type": "execute_result"
    }
   ],
   "source": [
    "temp[0].shape"
   ]
  },
  {
   "cell_type": "code",
   "execution_count": 16,
   "metadata": {},
   "outputs": [
    {
     "data": {
      "text/plain": [
       "(1024,)"
      ]
     },
     "execution_count": 16,
     "metadata": {},
     "output_type": "execute_result"
    }
   ],
   "source": [
    "temp[1].shape"
   ]
  },
  {
   "cell_type": "code",
   "execution_count": 17,
   "metadata": {},
   "outputs": [],
   "source": [
    "_ = test_gen.next()"
   ]
  },
  {
   "cell_type": "markdown",
   "metadata": {},
   "source": [
    "## Get Train Set Size"
   ]
  },
  {
   "cell_type": "code",
   "execution_count": 18,
   "metadata": {},
   "outputs": [],
   "source": [
    "train_set_size = total_examples - total_examples//10"
   ]
  },
  {
   "cell_type": "code",
   "execution_count": 19,
   "metadata": {},
   "outputs": [
    {
     "data": {
      "text/plain": [
       "388"
      ]
     },
     "execution_count": 19,
     "metadata": {},
     "output_type": "execute_result"
    }
   ],
   "source": [
    "train_steps_per_epoch = train_set_size//b_size\n",
    "train_steps_per_epoch"
   ]
  },
  {
   "cell_type": "markdown",
   "metadata": {},
   "source": [
    "## Get Test Set Size"
   ]
  },
  {
   "cell_type": "code",
   "execution_count": 20,
   "metadata": {},
   "outputs": [],
   "source": [
    "test_set_size = total_examples//10"
   ]
  },
  {
   "cell_type": "code",
   "execution_count": 21,
   "metadata": {},
   "outputs": [
    {
     "data": {
      "text/plain": [
       "43"
      ]
     },
     "execution_count": 21,
     "metadata": {},
     "output_type": "execute_result"
    }
   ],
   "source": [
    "test_steps_per_epoch = test_set_size//b_size\n",
    "test_steps_per_epoch"
   ]
  },
  {
   "cell_type": "markdown",
   "metadata": {},
   "source": [
    "## Creating the recurrent neural network model"
   ]
  },
  {
   "cell_type": "code",
   "execution_count": 22,
   "metadata": {},
   "outputs": [],
   "source": [
    "# importing relevant libraries\n",
    "from math import sqrt\n",
    "from numpy import split\n",
    "from numpy import array\n",
    "from pandas import read_csv\n",
    "from sklearn.metrics import mean_squared_error\n",
    "from matplotlib import pyplot\n",
    "\n",
    "import tensorflow as tf\n",
    "from tensorflow.python.keras import Model\n",
    "from tensorflow.python.keras.models import Sequential\n",
    "from tensorflow.python.keras.layers import Input, Dense ,GRU, Embedding, Flatten, RepeatVector, TimeDistributed, Dropout, Bidirectional, Reshape, concatenate\n",
    "from tensorflow.python.keras.optimizers import RMSprop, Adam, Nadam\n",
    "from tensorflow.python.keras.callbacks import EarlyStopping, ModelCheckpoint, TensorBoard, ReduceLROnPlateau\n",
    "from tensorflow.python.keras.initializers import RandomUniform\n",
    "from tensorflow.python.keras import regularizers"
   ]
  },
  {
   "cell_type": "markdown",
   "metadata": {},
   "source": [
    "We'll use the Keras API for its simplicity. The type of recurrent neural network we are using is called a gated recurrent unit (GRU). It will have 300 outputs for each timestep. The simple GRU will be wrapped inside a Bidirectional layer. Bidirectional layer creates two GRUs, in which one GRU traverses the signal in reverse order. Both of these GRUs will output 300 values at each timestep which are summed together at the end because we have set \"merge_mode = True\".\n",
    "\n",
    "The last layer would be a dense layer with a \"linear\" activation function because we want to predict a continuous range of values."
   ]
  },
  {
   "cell_type": "code",
   "execution_count": 23,
   "metadata": {},
   "outputs": [],
   "source": [
    "def get_ts_model():\n",
    "    # Creating the Optimizer\n",
    "    #optimizer = Adam(lr=1e-2)\n",
    "    optimizer = Adam()\n",
    "\n",
    "    ts_input = Input(shape=(12,6), dtype='float32', name='main_input')\n",
    "\n",
    "    # A LSTM will transform the vector sequence into a single vector,\n",
    "    # containing information about the entire sequence\n",
    "    gru_1 = Bidirectional(GRU(64, return_sequences = True))(ts_input)\n",
    "    gru_2 = Bidirectional(GRU(64, return_sequences = True))(gru_1)\n",
    "    gru_flattened_ts = Flatten()(gru_2)\n",
    "    \n",
    "    x = Dense(8, activation='relu')(gru_flattened_ts)\n",
    "#     x = Dense(8, activation='relu')(x)\n",
    "\n",
    "    # And finally we add the main logistic regression layer\n",
    "    output = Dense(1, activation='sigmoid', name='output')(x)\n",
    "\n",
    "    model = Model(inputs=[ts_input], outputs=[output])\n",
    "    model.compile(loss=\"binary_crossentropy\", optimizer=optimizer, metrics=['accuracy'])\n",
    "    \n",
    "    return model"
   ]
  },
  {
   "cell_type": "markdown",
   "metadata": {},
   "source": [
    "## Callback functions\n",
    "\n",
    "Callback functions are creating for logging the progress of training in Tensorboard and saving the best performing models."
   ]
  },
  {
   "cell_type": "code",
   "execution_count": 25,
   "metadata": {},
   "outputs": [],
   "source": [
    "# defining the Checkpoint File name and path\n",
    "path_checkpoint = 'ckpt_model_ts.keras'\n",
    "\n",
    "callback_checkpoint = ModelCheckpoint(filepath=path_checkpoint,\n",
    "                                      monitor='val_loss',\n",
    "                                      verbose=1,\n",
    "                                      save_weights_only=True,\n",
    "                                      save_best_only=True)\n",
    "\n",
    "# Callback for early stopping i-e if the model starts to overfit\n",
    "callback_early_stopping = EarlyStopping(monitor='val_acc',\n",
    "                                        patience=4, verbose=1)\n",
    "\n",
    "# Callback to reduce learning rate if the learning stangnates\n",
    "callback_reduce_lr = ReduceLROnPlateau(monitor='val_acc',\n",
    "                                       factor=0.1,\n",
    "                                       min_lr=1e-4,\n",
    "                                       patience=2,\n",
    "                                       verbose=1)\n",
    "\n",
    "# Callback for logging prgress in tensorboard\n",
    "callback_tensorboard = TensorBoard(log_dir='./model/log/',\n",
    "                                   histogram_freq=0,\n",
    "                                   write_graph=True)\n",
    "\n",
    "callbacks = [\n",
    "#     callback_early_stopping,\n",
    "             callback_checkpoint,\n",
    "             callback_reduce_lr,\n",
    "             callback_tensorboard]"
   ]
  },
  {
   "cell_type": "markdown",
   "metadata": {},
   "source": [
    "## Model Training"
   ]
  },
  {
   "cell_type": "code",
   "execution_count": 26,
   "metadata": {},
   "outputs": [],
   "source": [
    "class_weights = {0: 1.,\n",
    "                1: 2.}"
   ]
  },
  {
   "cell_type": "code",
   "execution_count": 27,
   "metadata": {},
   "outputs": [],
   "source": [
    "# model = get_model()"
   ]
  },
  {
   "cell_type": "code",
   "execution_count": 28,
   "metadata": {},
   "outputs": [
    {
     "name": "stdout",
     "output_type": "stream",
     "text": [
      "WARNING:tensorflow:From /home/ec2-user/anaconda3/envs/tensorflow_p27/lib/python2.7/site-packages/tensorflow/python/ops/resource_variable_ops.py:435: colocate_with (from tensorflow.python.framework.ops) is deprecated and will be removed in a future version.\n",
      "Instructions for updating:\n",
      "Colocations handled automatically by placer.\n"
     ]
    }
   ],
   "source": [
    "model = get_ts_model()"
   ]
  },
  {
   "cell_type": "code",
   "execution_count": 29,
   "metadata": {},
   "outputs": [
    {
     "name": "stdout",
     "output_type": "stream",
     "text": [
      "_________________________________________________________________\n",
      "Layer (type)                 Output Shape              Param #   \n",
      "=================================================================\n",
      "main_input (InputLayer)      (None, 12, 6)             0         \n",
      "_________________________________________________________________\n",
      "bidirectional (Bidirectional (None, 12, 128)           27264     \n",
      "_________________________________________________________________\n",
      "bidirectional_1 (Bidirection (None, 12, 128)           74112     \n",
      "_________________________________________________________________\n",
      "flatten (Flatten)            (None, 1536)              0         \n",
      "_________________________________________________________________\n",
      "dense (Dense)                (None, 8)                 12296     \n",
      "_________________________________________________________________\n",
      "output (Dense)               (None, 1)                 9         \n",
      "=================================================================\n",
      "Total params: 113,681\n",
      "Trainable params: 113,681\n",
      "Non-trainable params: 0\n",
      "_________________________________________________________________\n"
     ]
    }
   ],
   "source": [
    "model.summary()"
   ]
  },
  {
   "cell_type": "code",
   "execution_count": null,
   "metadata": {},
   "outputs": [
    {
     "name": "stdout",
     "output_type": "stream",
     "text": [
      "WARNING:tensorflow:From /home/ec2-user/anaconda3/envs/tensorflow_p27/lib/python2.7/site-packages/tensorflow/python/ops/math_ops.py:3066: to_int32 (from tensorflow.python.ops.math_ops) is deprecated and will be removed in a future version.\n",
      "Instructions for updating:\n",
      "Use tf.cast instead.\n",
      "Epoch 1/10\n",
      "43/43 [==============================] - 15s 346ms/step - loss: 0.3052 - acc: 0.8952\n",
      "\n",
      "Epoch 00001: val_loss improved from inf to 0.30518, saving model to ckpt_model_ts.keras\n",
      "388/388 [==============================] - 227s 585ms/step - loss: 0.3159 - acc: 0.8895 - val_loss: 0.3052 - val_acc: 0.8952\n",
      "Epoch 2/10\n",
      "43/43 [==============================] - 45s 1s/step - loss: 0.3043 - acc: 0.8958\n",
      "\n",
      "Epoch 00002: val_loss improved from 0.30518 to 0.30427, saving model to ckpt_model_ts.keras\n",
      "388/388 [==============================] - 299s 771ms/step - loss: 0.3071 - acc: 0.8955 - val_loss: 0.3043 - val_acc: 0.8958\n",
      "Epoch 3/10\n",
      "43/43 [==============================] - 62s 1s/step - loss: 0.3032 - acc: 0.8968\n",
      "\n",
      "Epoch 00003: val_loss improved from 0.30427 to 0.30319, saving model to ckpt_model_ts.keras\n",
      "388/388 [==============================] - 887s 2s/step - loss: 0.3061 - acc: 0.8957 - val_loss: 0.3032 - val_acc: 0.8968\n",
      "Epoch 4/10\n",
      "43/43 [==============================] - 16s 363ms/step - loss: 0.3033 - acc: 0.8965\n",
      "\n",
      "Epoch 00006: val_loss did not improve from 0.30317\n",
      "388/388 [==============================] - 887s 2s/step - loss: 0.3031 - acc: 0.8966 - val_loss: 0.3033 - val_acc: 0.8965\n",
      "Epoch 7/10\n",
      "43/43 [==============================] - 14s 326ms/step - loss: 0.3026 - acc: 0.8968\n",
      "\n",
      "Epoch 00007: val_loss improved from 0.30317 to 0.30257, saving model to ckpt_model_ts.keras\n",
      "\n",
      "Epoch 00007: ReduceLROnPlateau reducing learning rate to 0.0001.\n",
      "388/388 [==============================] - 893s 2s/step - loss: 0.3033 - acc: 0.8965 - val_loss: 0.3026 - val_acc: 0.8968\n",
      "Epoch 8/10\n",
      "43/43 [==============================] - 15s 348ms/step - loss: 0.3021 - acc: 0.8960\n",
      "\n",
      "Epoch 00008: val_loss improved from 0.30257 to 0.30213, saving model to ckpt_model_ts.keras\n",
      "388/388 [==============================] - 895s 2s/step - loss: 0.3029 - acc: 0.8967 - val_loss: 0.3021 - val_acc: 0.8960\n",
      "Epoch 9/10\n",
      "43/43 [==============================] - 14s 322ms/step - loss: 0.3025 - acc: 0.8963\n",
      "\n",
      "Epoch 00009: val_loss did not improve from 0.30213\n",
      "388/388 [==============================] - 896s 2s/step - loss: 0.3028 - acc: 0.8967 - val_loss: 0.3025 - val_acc: 0.8963\n",
      "Epoch 10/10\n",
      "43/43 [==============================] - 14s 320ms/step - loss: 0.3027 - acc: 0.8964\n",
      "\n",
      "Epoch 00010: val_loss did not improve from 0.30213\n",
      "388/388 [==============================] - 896s 2s/step - loss: 0.3028 - acc: 0.8966 - val_loss: 0.3027 - val_acc: 0.8964\n"
     ]
    }
   ],
   "source": [
    "history = model.fit_generator(generator=train_gen,\n",
    "                    epochs=10,\n",
    "#                     run_tensorboard_locally=True,\n",
    "                    steps_per_epoch=train_steps_per_epoch,\n",
    "#                     class_weight=class_weights,\n",
    "                    validation_data=test_gen,\n",
    "                    validation_steps=test_steps_per_epoch, \n",
    "                    callbacks = callbacks,\n",
    "                    verbose=1)"
   ]
  },
  {
   "cell_type": "code",
   "execution_count": 33,
   "metadata": {
    "scrolled": false
   },
   "outputs": [
    {
     "name": "stderr",
     "output_type": "stream",
     "text": [
      "100%|██████████| 43/43 [00:12<00:00,  3.43it/s]\n"
     ]
    }
   ],
   "source": [
    "# Validation producing Confusion Variables\n",
    "tp, tn, fp, fn = 0,0,0,0\n",
    "tot_true = 0\n",
    "\n",
    "for i in tqdm(range(test_steps_per_epoch)):\n",
    "    batch_in, y_true = test_gen.next()\n",
    "\n",
    "    y_true = y_true.reshape((b_size,1))\n",
    "    tot_true+=y_true.sum()\n",
    "    y_pred = model.predict_on_batch(batch_in)\n",
    "    y_pred_lab = (y_pred >= 0.5).astype(\"int\")\n",
    "    \n",
    "    corr = (y_pred_lab == y_true.reshape(y_pred_lab.shape))\n",
    "\n",
    "    tp += y_true[corr].sum()\n",
    "    tn += y_true[corr].size - y_true[corr].sum()\n",
    "\n",
    "    fn += y_true[~corr].sum()\n",
    "    fp += y_true[~corr].size - y_true[~corr].sum()\n",
    "    \n",
    "\n",
    "tot_neg = (b_size*test_steps_per_epoch) - tot_true"
   ]
  },
  {
   "cell_type": "markdown",
   "metadata": {},
   "source": [
    "### 1:1 Weights 5 Epochs"
   ]
  },
  {
   "cell_type": "code",
   "execution_count": 34,
   "metadata": {
    "scrolled": true
   },
   "outputs": [
    {
     "name": "stdout",
     "output_type": "stream",
     "text": [
      "(38687.0, 288.0, 38975.0)\n",
      "(4280.0, 777.0, 5057.0)\n"
     ]
    }
   ],
   "source": [
    "print(tn, fp, tot_neg)\n",
    "print(fn, tp, tot_true)"
   ]
  },
  {
   "cell_type": "code",
   "execution_count": 35,
   "metadata": {},
   "outputs": [
    {
     "name": "stdout",
     "output_type": "stream",
     "text": [
      "Positive Class Precision: 0.729577464789\n",
      "Positive Class Recall   : 0.153648408147\n"
     ]
    }
   ],
   "source": [
    "pos_rec = tp/(tp+fn)# Recall\n",
    "pos_prc = tp/(tp+fp)# Precision\n",
    "\n",
    "print(\"Positive Class Precision: {}\".format(pos_prc))\n",
    "print(\"Positive Class Recall   : {}\".format(pos_rec))"
   ]
  },
  {
   "cell_type": "code",
   "execution_count": 36,
   "metadata": {},
   "outputs": [
    {
     "name": "stdout",
     "output_type": "stream",
     "text": [
      "Negative Class Precision: 0.900388670375\n",
      "Negative Class Recall   : 0.992610647851\n"
     ]
    }
   ],
   "source": [
    "neg_rec = tn/(tn+fp)# Recall\n",
    "neg_prc = tn/(tn+fn)# Precision\n",
    "\n",
    "print(\"Negative Class Precision: {}\".format(neg_prc))\n",
    "print(\"Negative Class Recall   : {}\".format(neg_rec))"
   ]
  },
  {
   "cell_type": "code",
   "execution_count": 37,
   "metadata": {},
   "outputs": [],
   "source": [
    "model.save_weights(\"model_el_10_epochs.keras\")"
   ]
  },
  {
   "cell_type": "markdown",
   "metadata": {},
   "source": [
    "## Validation"
   ]
  },
  {
   "cell_type": "code",
   "execution_count": 35,
   "metadata": {},
   "outputs": [],
   "source": [
    "data_dir = \"m3_data/el_val/\"\n",
    "val_filenames = [[data_dir+x] for x in os.listdir(data_dir) if \"csv\" in x]"
   ]
  },
  {
   "cell_type": "code",
   "execution_count": 36,
   "metadata": {},
   "outputs": [],
   "source": [
    "cols_to_read = list(pd.read_csv(filenames[0][0], nrows=1).columns)\n",
    "columnsToUse = list(pd.read_csv(filenames[0][0], nrows=1).columns)\n",
    "\n",
    "columnsToUse.pop(columnsToUse.index(\"memshpno\"))\n",
    "columnsToUse.pop(columnsToUse.index(\"target_month\"))\n",
    "\n",
    "labelColumn = \"label\"\n",
    "recordDefaults = [[0.0] for col in columnsToUse]\n",
    "\n",
    "select_cols = [i for i,x in enumerate(pd.read_csv(filenames[0][0], nrows=1).columns) if x in columnsToUse]"
   ]
  },
  {
   "cell_type": "code",
   "execution_count": 42,
   "metadata": {},
   "outputs": [],
   "source": [
    "b_size = 1024\n",
    "\n",
    "set_size = 39588"
   ]
  },
  {
   "cell_type": "code",
   "execution_count": 38,
   "metadata": {},
   "outputs": [],
   "source": [
    "def read_validation_dataset(filenames, b_size=1024):\n",
    "    def decode_csv(value_column):\n",
    "        columns = tf.decode_csv(value_column, record_defaults=recordDefaults, select_cols=select_cols)\n",
    "        ts = columns[:-1]\n",
    "        label = columns[-1]\n",
    "        return ts, label\n",
    "\n",
    "    # Create dataset from file list\n",
    "    dataset = tf.data.Dataset.from_tensor_slices(filenames)\n",
    "    dataset = dataset.flat_map(lambda filename: tf.data.TextLineDataset(filename).skip(1))\n",
    "    dataset = dataset.map(decode_csv)  # Transform each elem by applying decode_csv fn\n",
    "\n",
    "    if True:\n",
    "        num_epochs = None # indefinitely\n",
    "    else:\n",
    "        num_epochs = 1 # end-of-input after this\n",
    "\n",
    "    test_data = dataset.shuffle(10000)\n",
    "\n",
    "    test_data = test_data.repeat(num_epochs).batch(b_size)\n",
    "\n",
    "    test_iterator = test_data.make_one_shot_iterator()\n",
    "\n",
    "    def make_gen_from_iterator(osi):\n",
    "        sess = tf.Session()\n",
    "        next_val = osi.get_next()\n",
    "        while True:\n",
    "            with sess.as_default():\n",
    "                ts, labels = sess.run(next_val)\n",
    "                ts = np.reshape(ts, newshape=(-1,12,6))\n",
    "                yield ts, labels\n",
    "\n",
    "    test_gen = make_gen_from_iterator(test_iterator)\n",
    "    \n",
    "    return test_gen"
   ]
  },
  {
   "cell_type": "code",
   "execution_count": 39,
   "metadata": {},
   "outputs": [],
   "source": [
    "val_gen = read_validation_dataset(filenames=val_filenames, b_size=b_size)"
   ]
  },
  {
   "cell_type": "code",
   "execution_count": 40,
   "metadata": {},
   "outputs": [],
   "source": [
    "temp = val_gen.next()"
   ]
  },
  {
   "cell_type": "code",
   "execution_count": 43,
   "metadata": {},
   "outputs": [
    {
     "data": {
      "text/plain": [
       "38"
      ]
     },
     "execution_count": 43,
     "metadata": {},
     "output_type": "execute_result"
    }
   ],
   "source": [
    "val_steps_per_epoch = set_size//b_size\n",
    "val_steps_per_epoch"
   ]
  },
  {
   "cell_type": "code",
   "execution_count": 7,
   "metadata": {},
   "outputs": [],
   "source": [
    "model = get_ts_model()\n",
    "model.load_weights(\"model_el_10_epochs.keras\")"
   ]
  },
  {
   "cell_type": "code",
   "execution_count": 45,
   "metadata": {},
   "outputs": [
    {
     "name": "stderr",
     "output_type": "stream",
     "text": [
      "100%|██████████| 38/38 [00:12<00:00,  2.75it/s]\n"
     ]
    }
   ],
   "source": [
    "# Validation producing Confusion Variables\n",
    "tp, tn, fp, fn = 0,0,0,0\n",
    "tot_true = 0\n",
    "\n",
    "for i in tqdm(range(val_steps_per_epoch)):\n",
    "    batch_in, y_true = val_gen.next()\n",
    "\n",
    "    y_true = y_true.reshape((b_size,1))\n",
    "    tot_true+=y_true.sum()\n",
    "    y_pred = model.predict_on_batch(batch_in)\n",
    "    y_pred_lab = (y_pred >= 0.5).astype(\"int\")\n",
    "    \n",
    "    corr = (y_pred_lab == y_true.reshape(y_pred_lab.shape))\n",
    "\n",
    "    tp += y_true[corr].sum()\n",
    "    tn += y_true[corr].size - y_true[corr].sum()\n",
    "\n",
    "    fn += y_true[~corr].sum()\n",
    "    fp += y_true[~corr].size - y_true[~corr].sum()\n",
    "    \n",
    "tot_neg = (b_size*val_steps_per_epoch) - tot_true"
   ]
  },
  {
   "cell_type": "code",
   "execution_count": 46,
   "metadata": {},
   "outputs": [
    {
     "name": "stdout",
     "output_type": "stream",
     "text": [
      "(32265.0, 198.0, 32463.0)\n",
      "(5806.0, 643.0, 6449.0)\n"
     ]
    }
   ],
   "source": [
    "print(tn, fp, tot_neg)\n",
    "print(fn, tp, tot_true)"
   ]
  },
  {
   "cell_type": "code",
   "execution_count": 47,
   "metadata": {},
   "outputs": [
    {
     "name": "stdout",
     "output_type": "stream",
     "text": [
      "Positive Predictions: 841.0\n"
     ]
    }
   ],
   "source": [
    "print(\"Positive Predictions: {}\".format(fp+tp))"
   ]
  },
  {
   "cell_type": "code",
   "execution_count": 48,
   "metadata": {},
   "outputs": [
    {
     "name": "stdout",
     "output_type": "stream",
     "text": [
      "Positive Class Precision: 0.764565992866\n",
      "Positive Class Recall   : 0.0997053806792\n"
     ]
    }
   ],
   "source": [
    "pos_rec = tp/(tp+fn)# Recall\n",
    "pos_prc = tp/(tp+fp)# Precision\n",
    "\n",
    "print(\"Positive Class Precision: {}\".format(pos_prc))\n",
    "print(\"Positive Class Recall   : {}\".format(pos_rec))"
   ]
  },
  {
   "cell_type": "code",
   "execution_count": 49,
   "metadata": {},
   "outputs": [
    {
     "name": "stdout",
     "output_type": "stream",
     "text": [
      "Negative Class Precision: 0.847495468992\n",
      "Negative Class Recall   : 0.993900748544\n"
     ]
    }
   ],
   "source": [
    "neg_rec = tn/(tn+fp)# Recall\n",
    "neg_prc = tn/(tn+fn)# Precision\n",
    "\n",
    "print(\"Negative Class Precision: {}\".format(neg_prc))\n",
    "print(\"Negative Class Recall   : {}\".format(neg_rec))"
   ]
  },
  {
   "cell_type": "markdown",
   "metadata": {},
   "source": [
    "# Generating and Saving Results"
   ]
  },
  {
   "cell_type": "code",
   "execution_count": 40,
   "metadata": {},
   "outputs": [],
   "source": [
    "data_dir = \"m3_data/el_val/\"\n",
    "val_filenames = [[data_dir+x] for x in os.listdir(data_dir) if \"csv\" in x]"
   ]
  },
  {
   "cell_type": "code",
   "execution_count": 41,
   "metadata": {},
   "outputs": [],
   "source": [
    "cols_to_read = list(pd.read_csv(filenames[0][0], nrows=1).columns)\n",
    "columnsToUse = list(pd.read_csv(filenames[0][0], nrows=1).columns)\n",
    "\n",
    "# columnsToUse.pop(columnsToUse.index(\"target_month\"))\n",
    "\n",
    "labelColumn = \"label\"\n",
    "recordDefaults = [[0.0] for col in columnsToUse]\n",
    "recordDefaults[0] = [\"\"]\n",
    "select_cols = [i for i,x in enumerate(pd.read_csv(filenames[0][0], nrows=1).columns) if x in columnsToUse]\n",
    "\n",
    "def read_dataset_w_memshpno(filenames, b_size=1024):\n",
    "    def decode_csv(value_column):\n",
    "        columns = tf.decode_csv(value_column, record_defaults=recordDefaults, select_cols=select_cols)\n",
    "        memshpno = columns[0]\n",
    "        ts = columns[1:-2]\n",
    "        month = columns[-2]\n",
    "        label = columns[-1]\n",
    "        return memshpno, ts, month, label\n",
    "\n",
    "    # Create dataset from file list\n",
    "    dataset = tf.data.Dataset.from_tensor_slices(filenames)\n",
    "    dataset = dataset.flat_map(lambda filename: tf.data.TextLineDataset(filename).skip(1))\n",
    "    dataset = dataset.map(decode_csv)  # Transform each elem by applying decode_csv fn\n",
    "\n",
    "    if True:\n",
    "        num_epochs = None # indefinitely\n",
    "    else:\n",
    "        num_epochs = 1 # end-of-input after this\n",
    "\n",
    "    test_data = dataset.shuffle(10000)\n",
    "\n",
    "    test_data = test_data.repeat(num_epochs).batch(b_size)\n",
    "\n",
    "    test_iterator = test_data.make_one_shot_iterator()\n",
    "\n",
    "    def make_gen_from_iterator(osi):\n",
    "        sess = tf.Session()\n",
    "        next_val = osi.get_next()\n",
    "        while True:\n",
    "            with sess.as_default():\n",
    "                memshpno, ts, month, labels = sess.run(next_val)\n",
    "                ts = np.reshape(ts, newshape=(b_size,12,6))\n",
    "                yield memshpno, ts, month, labels\n",
    "\n",
    "    test_gen = make_gen_from_iterator(test_iterator)\n",
    "    \n",
    "    return test_gen"
   ]
  },
  {
   "cell_type": "code",
   "execution_count": 42,
   "metadata": {},
   "outputs": [
    {
     "data": {
      "text/plain": [
       "[['m3_data/el_val/part-02545-4daef64f-d0c0-4576-81fc-a8b0c319b0ac-c000.csv'],\n",
       " ['m3_data/el_val/part-02788-4daef64f-d0c0-4576-81fc-a8b0c319b0ac-c000.csv'],\n",
       " ['m3_data/el_val/part-02778-4daef64f-d0c0-4576-81fc-a8b0c319b0ac-c000.csv'],\n",
       " ['m3_data/el_val/part-02743-4daef64f-d0c0-4576-81fc-a8b0c319b0ac-c000.csv'],\n",
       " ['m3_data/el_val/part-02588-4daef64f-d0c0-4576-81fc-a8b0c319b0ac-c000.csv'],\n",
       " ['m3_data/el_val/part-02424-4daef64f-d0c0-4576-81fc-a8b0c319b0ac-c000.csv'],\n",
       " ['m3_data/el_val/part-02691-4daef64f-d0c0-4576-81fc-a8b0c319b0ac-c000.csv'],\n",
       " ['m3_data/el_val/part-02425-4daef64f-d0c0-4576-81fc-a8b0c319b0ac-c000.csv'],\n",
       " ['m3_data/el_val/part-02689-4daef64f-d0c0-4576-81fc-a8b0c319b0ac-c000.csv'],\n",
       " ['m3_data/el_val/part-02749-4daef64f-d0c0-4576-81fc-a8b0c319b0ac-c000.csv'],\n",
       " ['m3_data/el_val/part-02747-4daef64f-d0c0-4576-81fc-a8b0c319b0ac-c000.csv'],\n",
       " ['m3_data/el_val/part-02754-4daef64f-d0c0-4576-81fc-a8b0c319b0ac-c000.csv'],\n",
       " ['m3_data/el_val/part-02493-4daef64f-d0c0-4576-81fc-a8b0c319b0ac-c000.csv'],\n",
       " ['m3_data/el_val/part-02671-4daef64f-d0c0-4576-81fc-a8b0c319b0ac-c000.csv'],\n",
       " ['m3_data/el_val/part-02637-4daef64f-d0c0-4576-81fc-a8b0c319b0ac-c000.csv'],\n",
       " ['m3_data/el_val/part-02650-4daef64f-d0c0-4576-81fc-a8b0c319b0ac-c000.csv'],\n",
       " ['m3_data/el_val/part-02485-4daef64f-d0c0-4576-81fc-a8b0c319b0ac-c000.csv'],\n",
       " ['m3_data/el_val/part-02713-4daef64f-d0c0-4576-81fc-a8b0c319b0ac-c000.csv'],\n",
       " ['m3_data/el_val/part-02462-4daef64f-d0c0-4576-81fc-a8b0c319b0ac-c000.csv'],\n",
       " ['m3_data/el_val/part-02776-4daef64f-d0c0-4576-81fc-a8b0c319b0ac-c000.csv'],\n",
       " ['m3_data/el_val/part-02565-4daef64f-d0c0-4576-81fc-a8b0c319b0ac-c000.csv'],\n",
       " ['m3_data/el_val/part-02483-4daef64f-d0c0-4576-81fc-a8b0c319b0ac-c000.csv'],\n",
       " ['m3_data/el_val/part-02408-4daef64f-d0c0-4576-81fc-a8b0c319b0ac-c000.csv'],\n",
       " ['m3_data/el_val/part-02794-4daef64f-d0c0-4576-81fc-a8b0c319b0ac-c000.csv'],\n",
       " ['m3_data/el_val/part-02676-4daef64f-d0c0-4576-81fc-a8b0c319b0ac-c000.csv'],\n",
       " ['m3_data/el_val/part-02524-4daef64f-d0c0-4576-81fc-a8b0c319b0ac-c000.csv'],\n",
       " ['m3_data/el_val/part-02484-4daef64f-d0c0-4576-81fc-a8b0c319b0ac-c000.csv'],\n",
       " ['m3_data/el_val/part-02598-4daef64f-d0c0-4576-81fc-a8b0c319b0ac-c000.csv'],\n",
       " ['m3_data/el_val/part-02503-4daef64f-d0c0-4576-81fc-a8b0c319b0ac-c000.csv'],\n",
       " ['m3_data/el_val/part-02617-4daef64f-d0c0-4576-81fc-a8b0c319b0ac-c000.csv'],\n",
       " ['m3_data/el_val/part-02500-4daef64f-d0c0-4576-81fc-a8b0c319b0ac-c000.csv'],\n",
       " ['m3_data/el_val/part-02693-4daef64f-d0c0-4576-81fc-a8b0c319b0ac-c000.csv'],\n",
       " ['m3_data/el_val/part-02737-4daef64f-d0c0-4576-81fc-a8b0c319b0ac-c000.csv'],\n",
       " ['m3_data/el_val/part-02460-4daef64f-d0c0-4576-81fc-a8b0c319b0ac-c000.csv'],\n",
       " ['m3_data/el_val/part-02540-4daef64f-d0c0-4576-81fc-a8b0c319b0ac-c000.csv'],\n",
       " ['m3_data/el_val/part-02403-4daef64f-d0c0-4576-81fc-a8b0c319b0ac-c000.csv'],\n",
       " ['m3_data/el_val/part-02757-4daef64f-d0c0-4576-81fc-a8b0c319b0ac-c000.csv'],\n",
       " ['m3_data/el_val/part-02587-4daef64f-d0c0-4576-81fc-a8b0c319b0ac-c000.csv'],\n",
       " ['m3_data/el_val/part-02551-4daef64f-d0c0-4576-81fc-a8b0c319b0ac-c000.csv'],\n",
       " ['m3_data/el_val/part-02635-4daef64f-d0c0-4576-81fc-a8b0c319b0ac-c000.csv'],\n",
       " ['m3_data/el_val/part-02523-4daef64f-d0c0-4576-81fc-a8b0c319b0ac-c000.csv'],\n",
       " ['m3_data/el_val/part-02686-4daef64f-d0c0-4576-81fc-a8b0c319b0ac-c000.csv'],\n",
       " ['m3_data/el_val/part-02768-4daef64f-d0c0-4576-81fc-a8b0c319b0ac-c000.csv'],\n",
       " ['m3_data/el_val/part-02667-4daef64f-d0c0-4576-81fc-a8b0c319b0ac-c000.csv'],\n",
       " ['m3_data/el_val/part-02666-4daef64f-d0c0-4576-81fc-a8b0c319b0ac-c000.csv'],\n",
       " ['m3_data/el_val/part-02710-4daef64f-d0c0-4576-81fc-a8b0c319b0ac-c000.csv'],\n",
       " ['m3_data/el_val/part-02640-4daef64f-d0c0-4576-81fc-a8b0c319b0ac-c000.csv'],\n",
       " ['m3_data/el_val/part-02624-4daef64f-d0c0-4576-81fc-a8b0c319b0ac-c000.csv'],\n",
       " ['m3_data/el_val/part-02451-4daef64f-d0c0-4576-81fc-a8b0c319b0ac-c000.csv'],\n",
       " ['m3_data/el_val/part-02441-4daef64f-d0c0-4576-81fc-a8b0c319b0ac-c000.csv'],\n",
       " ['m3_data/el_val/part-02522-4daef64f-d0c0-4576-81fc-a8b0c319b0ac-c000.csv'],\n",
       " ['m3_data/el_val/part-02687-4daef64f-d0c0-4576-81fc-a8b0c319b0ac-c000.csv'],\n",
       " ['m3_data/el_val/part-02625-4daef64f-d0c0-4576-81fc-a8b0c319b0ac-c000.csv'],\n",
       " ['m3_data/el_val/part-02549-4daef64f-d0c0-4576-81fc-a8b0c319b0ac-c000.csv'],\n",
       " ['m3_data/el_val/part-02740-4daef64f-d0c0-4576-81fc-a8b0c319b0ac-c000.csv'],\n",
       " ['m3_data/el_val/part-02510-4daef64f-d0c0-4576-81fc-a8b0c319b0ac-c000.csv'],\n",
       " ['m3_data/el_val/part-02518-4daef64f-d0c0-4576-81fc-a8b0c319b0ac-c000.csv'],\n",
       " ['m3_data/el_val/part-02481-4daef64f-d0c0-4576-81fc-a8b0c319b0ac-c000.csv'],\n",
       " ['m3_data/el_val/part-02700-4daef64f-d0c0-4576-81fc-a8b0c319b0ac-c000.csv'],\n",
       " ['m3_data/el_val/part-02438-4daef64f-d0c0-4576-81fc-a8b0c319b0ac-c000.csv'],\n",
       " ['m3_data/el_val/part-02695-4daef64f-d0c0-4576-81fc-a8b0c319b0ac-c000.csv'],\n",
       " ['m3_data/el_val/part-02769-4daef64f-d0c0-4576-81fc-a8b0c319b0ac-c000.csv'],\n",
       " ['m3_data/el_val/part-02753-4daef64f-d0c0-4576-81fc-a8b0c319b0ac-c000.csv'],\n",
       " ['m3_data/el_val/part-02604-4daef64f-d0c0-4576-81fc-a8b0c319b0ac-c000.csv'],\n",
       " ['m3_data/el_val/part-02656-4daef64f-d0c0-4576-81fc-a8b0c319b0ac-c000.csv'],\n",
       " ['m3_data/el_val/part-02714-4daef64f-d0c0-4576-81fc-a8b0c319b0ac-c000.csv'],\n",
       " ['m3_data/el_val/part-02674-4daef64f-d0c0-4576-81fc-a8b0c319b0ac-c000.csv'],\n",
       " ['m3_data/el_val/part-02456-4daef64f-d0c0-4576-81fc-a8b0c319b0ac-c000.csv'],\n",
       " ['m3_data/el_val/part-02614-4daef64f-d0c0-4576-81fc-a8b0c319b0ac-c000.csv'],\n",
       " ['m3_data/el_val/part-02685-4daef64f-d0c0-4576-81fc-a8b0c319b0ac-c000.csv'],\n",
       " ['m3_data/el_val/part-02649-4daef64f-d0c0-4576-81fc-a8b0c319b0ac-c000.csv'],\n",
       " ['m3_data/el_val/part-02412-4daef64f-d0c0-4576-81fc-a8b0c319b0ac-c000.csv'],\n",
       " ['m3_data/el_val/part-02736-4daef64f-d0c0-4576-81fc-a8b0c319b0ac-c000.csv'],\n",
       " ['m3_data/el_val/part-02443-4daef64f-d0c0-4576-81fc-a8b0c319b0ac-c000.csv'],\n",
       " ['m3_data/el_val/part-02709-4daef64f-d0c0-4576-81fc-a8b0c319b0ac-c000.csv'],\n",
       " ['m3_data/el_val/part-02731-4daef64f-d0c0-4576-81fc-a8b0c319b0ac-c000.csv'],\n",
       " ['m3_data/el_val/part-02496-4daef64f-d0c0-4576-81fc-a8b0c319b0ac-c000.csv'],\n",
       " ['m3_data/el_val/part-02508-4daef64f-d0c0-4576-81fc-a8b0c319b0ac-c000.csv'],\n",
       " ['m3_data/el_val/part-02613-4daef64f-d0c0-4576-81fc-a8b0c319b0ac-c000.csv'],\n",
       " ['m3_data/el_val/part-02513-4daef64f-d0c0-4576-81fc-a8b0c319b0ac-c000.csv'],\n",
       " ['m3_data/el_val/part-02657-4daef64f-d0c0-4576-81fc-a8b0c319b0ac-c000.csv'],\n",
       " ['m3_data/el_val/part-02447-4daef64f-d0c0-4576-81fc-a8b0c319b0ac-c000.csv'],\n",
       " ['m3_data/el_val/part-02721-4daef64f-d0c0-4576-81fc-a8b0c319b0ac-c000.csv'],\n",
       " ['m3_data/el_val/part-02745-4daef64f-d0c0-4576-81fc-a8b0c319b0ac-c000.csv'],\n",
       " ['m3_data/el_val/part-02730-4daef64f-d0c0-4576-81fc-a8b0c319b0ac-c000.csv'],\n",
       " ['m3_data/el_val/part-02553-4daef64f-d0c0-4576-81fc-a8b0c319b0ac-c000.csv'],\n",
       " ['m3_data/el_val/part-02707-4daef64f-d0c0-4576-81fc-a8b0c319b0ac-c000.csv'],\n",
       " ['m3_data/el_val/part-02470-4daef64f-d0c0-4576-81fc-a8b0c319b0ac-c000.csv'],\n",
       " ['m3_data/el_val/part-02752-4daef64f-d0c0-4576-81fc-a8b0c319b0ac-c000.csv'],\n",
       " ['m3_data/el_val/part-02681-4daef64f-d0c0-4576-81fc-a8b0c319b0ac-c000.csv'],\n",
       " ['m3_data/el_val/part-02665-4daef64f-d0c0-4576-81fc-a8b0c319b0ac-c000.csv'],\n",
       " ['m3_data/el_val/part-02405-4daef64f-d0c0-4576-81fc-a8b0c319b0ac-c000.csv'],\n",
       " ['m3_data/el_val/part-02414-4daef64f-d0c0-4576-81fc-a8b0c319b0ac-c000.csv'],\n",
       " ['m3_data/el_val/part-02541-4daef64f-d0c0-4576-81fc-a8b0c319b0ac-c000.csv'],\n",
       " ['m3_data/el_val/part-02434-4daef64f-d0c0-4576-81fc-a8b0c319b0ac-c000.csv'],\n",
       " ['m3_data/el_val/part-02507-4daef64f-d0c0-4576-81fc-a8b0c319b0ac-c000.csv'],\n",
       " ['m3_data/el_val/part-02605-4daef64f-d0c0-4576-81fc-a8b0c319b0ac-c000.csv'],\n",
       " ['m3_data/el_val/part-02647-4daef64f-d0c0-4576-81fc-a8b0c319b0ac-c000.csv'],\n",
       " ['m3_data/el_val/part-02774-4daef64f-d0c0-4576-81fc-a8b0c319b0ac-c000.csv'],\n",
       " ['m3_data/el_val/part-02622-4daef64f-d0c0-4576-81fc-a8b0c319b0ac-c000.csv'],\n",
       " ['m3_data/el_val/part-02641-4daef64f-d0c0-4576-81fc-a8b0c319b0ac-c000.csv'],\n",
       " ['m3_data/el_val/part-02723-4daef64f-d0c0-4576-81fc-a8b0c319b0ac-c000.csv'],\n",
       " ['m3_data/el_val/part-02678-4daef64f-d0c0-4576-81fc-a8b0c319b0ac-c000.csv'],\n",
       " ['m3_data/el_val/part-02530-4daef64f-d0c0-4576-81fc-a8b0c319b0ac-c000.csv'],\n",
       " ['m3_data/el_val/part-02732-4daef64f-d0c0-4576-81fc-a8b0c319b0ac-c000.csv'],\n",
       " ['m3_data/el_val/part-02459-4daef64f-d0c0-4576-81fc-a8b0c319b0ac-c000.csv'],\n",
       " ['m3_data/el_val/part-02733-4daef64f-d0c0-4576-81fc-a8b0c319b0ac-c000.csv'],\n",
       " ['m3_data/el_val/part-02454-4daef64f-d0c0-4576-81fc-a8b0c319b0ac-c000.csv'],\n",
       " ['m3_data/el_val/part-02630-4daef64f-d0c0-4576-81fc-a8b0c319b0ac-c000.csv'],\n",
       " ['m3_data/el_val/part-02571-4daef64f-d0c0-4576-81fc-a8b0c319b0ac-c000.csv'],\n",
       " ['m3_data/el_val/part-02410-4daef64f-d0c0-4576-81fc-a8b0c319b0ac-c000.csv'],\n",
       " ['m3_data/el_val/part-02735-4daef64f-d0c0-4576-81fc-a8b0c319b0ac-c000.csv'],\n",
       " ['m3_data/el_val/part-02563-4daef64f-d0c0-4576-81fc-a8b0c319b0ac-c000.csv'],\n",
       " ['m3_data/el_val/part-02791-4daef64f-d0c0-4576-81fc-a8b0c319b0ac-c000.csv'],\n",
       " ['m3_data/el_val/part-02699-4daef64f-d0c0-4576-81fc-a8b0c319b0ac-c000.csv'],\n",
       " ['m3_data/el_val/part-02662-4daef64f-d0c0-4576-81fc-a8b0c319b0ac-c000.csv'],\n",
       " ['m3_data/el_val/part-02798-4daef64f-d0c0-4576-81fc-a8b0c319b0ac-c000.csv'],\n",
       " ['m3_data/el_val/part-02719-4daef64f-d0c0-4576-81fc-a8b0c319b0ac-c000.csv'],\n",
       " ['m3_data/el_val/part-02448-4daef64f-d0c0-4576-81fc-a8b0c319b0ac-c000.csv'],\n",
       " ['m3_data/el_val/part-02793-4daef64f-d0c0-4576-81fc-a8b0c319b0ac-c000.csv'],\n",
       " ['m3_data/el_val/part-02601-4daef64f-d0c0-4576-81fc-a8b0c319b0ac-c000.csv'],\n",
       " ['m3_data/el_val/part-02535-4daef64f-d0c0-4576-81fc-a8b0c319b0ac-c000.csv'],\n",
       " ['m3_data/el_val/part-02727-4daef64f-d0c0-4576-81fc-a8b0c319b0ac-c000.csv'],\n",
       " ['m3_data/el_val/part-02599-4daef64f-d0c0-4576-81fc-a8b0c319b0ac-c000.csv'],\n",
       " ['m3_data/el_val/part-02404-4daef64f-d0c0-4576-81fc-a8b0c319b0ac-c000.csv'],\n",
       " ['m3_data/el_val/part-02590-4daef64f-d0c0-4576-81fc-a8b0c319b0ac-c000.csv'],\n",
       " ['m3_data/el_val/part-02472-4daef64f-d0c0-4576-81fc-a8b0c319b0ac-c000.csv'],\n",
       " ['m3_data/el_val/part-02600-4daef64f-d0c0-4576-81fc-a8b0c319b0ac-c000.csv'],\n",
       " ['m3_data/el_val/part-02488-4daef64f-d0c0-4576-81fc-a8b0c319b0ac-c000.csv'],\n",
       " ['m3_data/el_val/part-02516-4daef64f-d0c0-4576-81fc-a8b0c319b0ac-c000.csv'],\n",
       " ['m3_data/el_val/part-02564-4daef64f-d0c0-4576-81fc-a8b0c319b0ac-c000.csv'],\n",
       " ['m3_data/el_val/part-02606-4daef64f-d0c0-4576-81fc-a8b0c319b0ac-c000.csv'],\n",
       " ['m3_data/el_val/part-02770-4daef64f-d0c0-4576-81fc-a8b0c319b0ac-c000.csv'],\n",
       " ['m3_data/el_val/part-02722-4daef64f-d0c0-4576-81fc-a8b0c319b0ac-c000.csv'],\n",
       " ['m3_data/el_val/part-02431-4daef64f-d0c0-4576-81fc-a8b0c319b0ac-c000.csv'],\n",
       " ['m3_data/el_val/part-02543-4daef64f-d0c0-4576-81fc-a8b0c319b0ac-c000.csv'],\n",
       " ['m3_data/el_val/part-02436-4daef64f-d0c0-4576-81fc-a8b0c319b0ac-c000.csv'],\n",
       " ['m3_data/el_val/part-02583-4daef64f-d0c0-4576-81fc-a8b0c319b0ac-c000.csv'],\n",
       " ['m3_data/el_val/part-02490-4daef64f-d0c0-4576-81fc-a8b0c319b0ac-c000.csv'],\n",
       " ['m3_data/el_val/part-02738-4daef64f-d0c0-4576-81fc-a8b0c319b0ac-c000.csv'],\n",
       " ['m3_data/el_val/part-02478-4daef64f-d0c0-4576-81fc-a8b0c319b0ac-c000.csv'],\n",
       " ['m3_data/el_val/part-02581-4daef64f-d0c0-4576-81fc-a8b0c319b0ac-c000.csv'],\n",
       " ['m3_data/el_val/part-02439-4daef64f-d0c0-4576-81fc-a8b0c319b0ac-c000.csv'],\n",
       " ['m3_data/el_val/part-02623-4daef64f-d0c0-4576-81fc-a8b0c319b0ac-c000.csv'],\n",
       " ['m3_data/el_val/part-02659-4daef64f-d0c0-4576-81fc-a8b0c319b0ac-c000.csv'],\n",
       " ['m3_data/el_val/part-02428-4daef64f-d0c0-4576-81fc-a8b0c319b0ac-c000.csv'],\n",
       " ['m3_data/el_val/part-02429-4daef64f-d0c0-4576-81fc-a8b0c319b0ac-c000.csv'],\n",
       " ['m3_data/el_val/part-02411-4daef64f-d0c0-4576-81fc-a8b0c319b0ac-c000.csv'],\n",
       " ['m3_data/el_val/part-02461-4daef64f-d0c0-4576-81fc-a8b0c319b0ac-c000.csv'],\n",
       " ['m3_data/el_val/part-02718-4daef64f-d0c0-4576-81fc-a8b0c319b0ac-c000.csv'],\n",
       " ['m3_data/el_val/part-02679-4daef64f-d0c0-4576-81fc-a8b0c319b0ac-c000.csv'],\n",
       " ['m3_data/el_val/part-02440-4daef64f-d0c0-4576-81fc-a8b0c319b0ac-c000.csv'],\n",
       " ['m3_data/el_val/part-02673-4daef64f-d0c0-4576-81fc-a8b0c319b0ac-c000.csv'],\n",
       " ['m3_data/el_val/part-02593-4daef64f-d0c0-4576-81fc-a8b0c319b0ac-c000.csv'],\n",
       " ['m3_data/el_val/part-02487-4daef64f-d0c0-4576-81fc-a8b0c319b0ac-c000.csv'],\n",
       " ['m3_data/el_val/part-02696-4daef64f-d0c0-4576-81fc-a8b0c319b0ac-c000.csv'],\n",
       " ['m3_data/el_val/part-02561-4daef64f-d0c0-4576-81fc-a8b0c319b0ac-c000.csv'],\n",
       " ['m3_data/el_val/part-02762-4daef64f-d0c0-4576-81fc-a8b0c319b0ac-c000.csv'],\n",
       " ['m3_data/el_val/part-02690-4daef64f-d0c0-4576-81fc-a8b0c319b0ac-c000.csv'],\n",
       " ['m3_data/el_val/part-02468-4daef64f-d0c0-4576-81fc-a8b0c319b0ac-c000.csv'],\n",
       " ['m3_data/el_val/part-02725-4daef64f-d0c0-4576-81fc-a8b0c319b0ac-c000.csv'],\n",
       " ['m3_data/el_val/part-02474-4daef64f-d0c0-4576-81fc-a8b0c319b0ac-c000.csv'],\n",
       " ['m3_data/el_val/part-02728-4daef64f-d0c0-4576-81fc-a8b0c319b0ac-c000.csv'],\n",
       " ['m3_data/el_val/part-02570-4daef64f-d0c0-4576-81fc-a8b0c319b0ac-c000.csv'],\n",
       " ['m3_data/el_val/part-02479-4daef64f-d0c0-4576-81fc-a8b0c319b0ac-c000.csv'],\n",
       " ['m3_data/el_val/part-02579-4daef64f-d0c0-4576-81fc-a8b0c319b0ac-c000.csv'],\n",
       " ['m3_data/el_val/part-02758-4daef64f-d0c0-4576-81fc-a8b0c319b0ac-c000.csv'],\n",
       " ['m3_data/el_val/part-02536-4daef64f-d0c0-4576-81fc-a8b0c319b0ac-c000.csv'],\n",
       " ['m3_data/el_val/part-02578-4daef64f-d0c0-4576-81fc-a8b0c319b0ac-c000.csv'],\n",
       " ['m3_data/el_val/part-02634-4daef64f-d0c0-4576-81fc-a8b0c319b0ac-c000.csv'],\n",
       " ['m3_data/el_val/part-02660-4daef64f-d0c0-4576-81fc-a8b0c319b0ac-c000.csv'],\n",
       " ['m3_data/el_val/part-02643-4daef64f-d0c0-4576-81fc-a8b0c319b0ac-c000.csv'],\n",
       " ['m3_data/el_val/part-02575-4daef64f-d0c0-4576-81fc-a8b0c319b0ac-c000.csv'],\n",
       " ['m3_data/el_val/part-02618-4daef64f-d0c0-4576-81fc-a8b0c319b0ac-c000.csv'],\n",
       " ['m3_data/el_val/part-02729-4daef64f-d0c0-4576-81fc-a8b0c319b0ac-c000.csv'],\n",
       " ['m3_data/el_val/part-02616-4daef64f-d0c0-4576-81fc-a8b0c319b0ac-c000.csv'],\n",
       " ['m3_data/el_val/part-02430-4daef64f-d0c0-4576-81fc-a8b0c319b0ac-c000.csv'],\n",
       " ['m3_data/el_val/part-02550-4daef64f-d0c0-4576-81fc-a8b0c319b0ac-c000.csv'],\n",
       " ['m3_data/el_val/part-02715-4daef64f-d0c0-4576-81fc-a8b0c319b0ac-c000.csv'],\n",
       " ['m3_data/el_val/part-02489-4daef64f-d0c0-4576-81fc-a8b0c319b0ac-c000.csv'],\n",
       " ['m3_data/el_val/part-02527-4daef64f-d0c0-4576-81fc-a8b0c319b0ac-c000.csv'],\n",
       " ['m3_data/el_val/part-02631-4daef64f-d0c0-4576-81fc-a8b0c319b0ac-c000.csv'],\n",
       " ['m3_data/el_val/part-02627-4daef64f-d0c0-4576-81fc-a8b0c319b0ac-c000.csv'],\n",
       " ['m3_data/el_val/part-02675-4daef64f-d0c0-4576-81fc-a8b0c319b0ac-c000.csv'],\n",
       " ['m3_data/el_val/part-02577-4daef64f-d0c0-4576-81fc-a8b0c319b0ac-c000.csv'],\n",
       " ['m3_data/el_val/part-02435-4daef64f-d0c0-4576-81fc-a8b0c319b0ac-c000.csv'],\n",
       " ['m3_data/el_val/part-02514-4daef64f-d0c0-4576-81fc-a8b0c319b0ac-c000.csv'],\n",
       " ['m3_data/el_val/part-02658-4daef64f-d0c0-4576-81fc-a8b0c319b0ac-c000.csv'],\n",
       " ['m3_data/el_val/part-02683-4daef64f-d0c0-4576-81fc-a8b0c319b0ac-c000.csv'],\n",
       " ['m3_data/el_val/part-02726-4daef64f-d0c0-4576-81fc-a8b0c319b0ac-c000.csv'],\n",
       " ['m3_data/el_val/part-02427-4daef64f-d0c0-4576-81fc-a8b0c319b0ac-c000.csv'],\n",
       " ['m3_data/el_val/part-02603-4daef64f-d0c0-4576-81fc-a8b0c319b0ac-c000.csv'],\n",
       " ['m3_data/el_val/part-02469-4daef64f-d0c0-4576-81fc-a8b0c319b0ac-c000.csv'],\n",
       " ['m3_data/el_val/part-02672-4daef64f-d0c0-4576-81fc-a8b0c319b0ac-c000.csv'],\n",
       " ['m3_data/el_val/part-02619-4daef64f-d0c0-4576-81fc-a8b0c319b0ac-c000.csv'],\n",
       " ['m3_data/el_val/part-02611-4daef64f-d0c0-4576-81fc-a8b0c319b0ac-c000.csv'],\n",
       " ['m3_data/el_val/part-02591-4daef64f-d0c0-4576-81fc-a8b0c319b0ac-c000.csv'],\n",
       " ['m3_data/el_val/part-02446-4daef64f-d0c0-4576-81fc-a8b0c319b0ac-c000.csv'],\n",
       " ['m3_data/el_val/part-02584-4daef64f-d0c0-4576-81fc-a8b0c319b0ac-c000.csv'],\n",
       " ['m3_data/el_val/part-02761-4daef64f-d0c0-4576-81fc-a8b0c319b0ac-c000.csv'],\n",
       " ['m3_data/el_val/part-02437-4daef64f-d0c0-4576-81fc-a8b0c319b0ac-c000.csv'],\n",
       " ['m3_data/el_val/part-02495-4daef64f-d0c0-4576-81fc-a8b0c319b0ac-c000.csv'],\n",
       " ['m3_data/el_val/part-02562-4daef64f-d0c0-4576-81fc-a8b0c319b0ac-c000.csv'],\n",
       " ['m3_data/el_val/part-02782-4daef64f-d0c0-4576-81fc-a8b0c319b0ac-c000.csv'],\n",
       " ['m3_data/el_val/part-02646-4daef64f-d0c0-4576-81fc-a8b0c319b0ac-c000.csv'],\n",
       " ['m3_data/el_val/part-02734-4daef64f-d0c0-4576-81fc-a8b0c319b0ac-c000.csv'],\n",
       " ['m3_data/el_val/part-02520-4daef64f-d0c0-4576-81fc-a8b0c319b0ac-c000.csv'],\n",
       " ['m3_data/el_val/part-02632-4daef64f-d0c0-4576-81fc-a8b0c319b0ac-c000.csv'],\n",
       " ['m3_data/el_val/part-02716-4daef64f-d0c0-4576-81fc-a8b0c319b0ac-c000.csv'],\n",
       " ['m3_data/el_val/part-02609-4daef64f-d0c0-4576-81fc-a8b0c319b0ac-c000.csv'],\n",
       " ['m3_data/el_val/part-02773-4daef64f-d0c0-4576-81fc-a8b0c319b0ac-c000.csv'],\n",
       " ['m3_data/el_val/part-02642-4daef64f-d0c0-4576-81fc-a8b0c319b0ac-c000.csv'],\n",
       " ['m3_data/el_val/part-02648-4daef64f-d0c0-4576-81fc-a8b0c319b0ac-c000.csv'],\n",
       " ['m3_data/el_val/part-02492-4daef64f-d0c0-4576-81fc-a8b0c319b0ac-c000.csv'],\n",
       " ['m3_data/el_val/part-02402-4daef64f-d0c0-4576-81fc-a8b0c319b0ac-c000.csv'],\n",
       " ['m3_data/el_val/part-02784-4daef64f-d0c0-4576-81fc-a8b0c319b0ac-c000.csv'],\n",
       " ['m3_data/el_val/part-02519-4daef64f-d0c0-4576-81fc-a8b0c319b0ac-c000.csv'],\n",
       " ['m3_data/el_val/part-02702-4daef64f-d0c0-4576-81fc-a8b0c319b0ac-c000.csv'],\n",
       " ['m3_data/el_val/part-02537-4daef64f-d0c0-4576-81fc-a8b0c319b0ac-c000.csv'],\n",
       " ['m3_data/el_val/part-02755-4daef64f-d0c0-4576-81fc-a8b0c319b0ac-c000.csv'],\n",
       " ['m3_data/el_val/part-02592-4daef64f-d0c0-4576-81fc-a8b0c319b0ac-c000.csv'],\n",
       " ['m3_data/el_val/part-02498-4daef64f-d0c0-4576-81fc-a8b0c319b0ac-c000.csv'],\n",
       " ['m3_data/el_val/part-02499-4daef64f-d0c0-4576-81fc-a8b0c319b0ac-c000.csv'],\n",
       " ['m3_data/el_val/part-02720-4daef64f-d0c0-4576-81fc-a8b0c319b0ac-c000.csv'],\n",
       " ['m3_data/el_val/part-02744-4daef64f-d0c0-4576-81fc-a8b0c319b0ac-c000.csv'],\n",
       " ['m3_data/el_val/part-02538-4daef64f-d0c0-4576-81fc-a8b0c319b0ac-c000.csv'],\n",
       " ['m3_data/el_val/part-02629-4daef64f-d0c0-4576-81fc-a8b0c319b0ac-c000.csv'],\n",
       " ['m3_data/el_val/part-02724-4daef64f-d0c0-4576-81fc-a8b0c319b0ac-c000.csv'],\n",
       " ['m3_data/el_val/part-02423-4daef64f-d0c0-4576-81fc-a8b0c319b0ac-c000.csv'],\n",
       " ['m3_data/el_val/part-02453-4daef64f-d0c0-4576-81fc-a8b0c319b0ac-c000.csv'],\n",
       " ['m3_data/el_val/part-02789-4daef64f-d0c0-4576-81fc-a8b0c319b0ac-c000.csv'],\n",
       " ['m3_data/el_val/part-02539-4daef64f-d0c0-4576-81fc-a8b0c319b0ac-c000.csv'],\n",
       " ['m3_data/el_val/part-02595-4daef64f-d0c0-4576-81fc-a8b0c319b0ac-c000.csv'],\n",
       " ['m3_data/el_val/part-02517-4daef64f-d0c0-4576-81fc-a8b0c319b0ac-c000.csv'],\n",
       " ['m3_data/el_val/part-02626-4daef64f-d0c0-4576-81fc-a8b0c319b0ac-c000.csv'],\n",
       " ['m3_data/el_val/part-02533-4daef64f-d0c0-4576-81fc-a8b0c319b0ac-c000.csv'],\n",
       " ['m3_data/el_val/part-02645-4daef64f-d0c0-4576-81fc-a8b0c319b0ac-c000.csv'],\n",
       " ['m3_data/el_val/part-02670-4daef64f-d0c0-4576-81fc-a8b0c319b0ac-c000.csv'],\n",
       " ['m3_data/el_val/part-02416-4daef64f-d0c0-4576-81fc-a8b0c319b0ac-c000.csv'],\n",
       " ['m3_data/el_val/part-02742-4daef64f-d0c0-4576-81fc-a8b0c319b0ac-c000.csv'],\n",
       " ['m3_data/el_val/part-02766-4daef64f-d0c0-4576-81fc-a8b0c319b0ac-c000.csv'],\n",
       " ['m3_data/el_val/part-02458-4daef64f-d0c0-4576-81fc-a8b0c319b0ac-c000.csv'],\n",
       " ['m3_data/el_val/part-02558-4daef64f-d0c0-4576-81fc-a8b0c319b0ac-c000.csv'],\n",
       " ['m3_data/el_val/part-02568-4daef64f-d0c0-4576-81fc-a8b0c319b0ac-c000.csv'],\n",
       " ['m3_data/el_val/part-02582-4daef64f-d0c0-4576-81fc-a8b0c319b0ac-c000.csv'],\n",
       " ['m3_data/el_val/part-02531-4daef64f-d0c0-4576-81fc-a8b0c319b0ac-c000.csv'],\n",
       " ['m3_data/el_val/part-02442-4daef64f-d0c0-4576-81fc-a8b0c319b0ac-c000.csv'],\n",
       " ['m3_data/el_val/part-02589-4daef64f-d0c0-4576-81fc-a8b0c319b0ac-c000.csv'],\n",
       " ['m3_data/el_val/part-02680-4daef64f-d0c0-4576-81fc-a8b0c319b0ac-c000.csv'],\n",
       " ['m3_data/el_val/part-02628-4daef64f-d0c0-4576-81fc-a8b0c319b0ac-c000.csv'],\n",
       " ['m3_data/el_val/part-02711-4daef64f-d0c0-4576-81fc-a8b0c319b0ac-c000.csv'],\n",
       " ['m3_data/el_val/part-02750-4daef64f-d0c0-4576-81fc-a8b0c319b0ac-c000.csv'],\n",
       " ['m3_data/el_val/part-02669-4daef64f-d0c0-4576-81fc-a8b0c319b0ac-c000.csv'],\n",
       " ['m3_data/el_val/part-02797-4daef64f-d0c0-4576-81fc-a8b0c319b0ac-c000.csv'],\n",
       " ['m3_data/el_val/part-02471-4daef64f-d0c0-4576-81fc-a8b0c319b0ac-c000.csv'],\n",
       " ['m3_data/el_val/part-02509-4daef64f-d0c0-4576-81fc-a8b0c319b0ac-c000.csv'],\n",
       " ['m3_data/el_val/part-02515-4daef64f-d0c0-4576-81fc-a8b0c319b0ac-c000.csv'],\n",
       " ['m3_data/el_val/part-02521-4daef64f-d0c0-4576-81fc-a8b0c319b0ac-c000.csv'],\n",
       " ['m3_data/el_val/part-02420-4daef64f-d0c0-4576-81fc-a8b0c319b0ac-c000.csv'],\n",
       " ['m3_data/el_val/part-02682-4daef64f-d0c0-4576-81fc-a8b0c319b0ac-c000.csv'],\n",
       " ['m3_data/el_val/part-02506-4daef64f-d0c0-4576-81fc-a8b0c319b0ac-c000.csv'],\n",
       " ['m3_data/el_val/part-02494-4daef64f-d0c0-4576-81fc-a8b0c319b0ac-c000.csv'],\n",
       " ['m3_data/el_val/part-02464-4daef64f-d0c0-4576-81fc-a8b0c319b0ac-c000.csv'],\n",
       " ['m3_data/el_val/part-02795-4daef64f-d0c0-4576-81fc-a8b0c319b0ac-c000.csv'],\n",
       " ['m3_data/el_val/part-02706-4daef64f-d0c0-4576-81fc-a8b0c319b0ac-c000.csv'],\n",
       " ['m3_data/el_val/part-02542-4daef64f-d0c0-4576-81fc-a8b0c319b0ac-c000.csv'],\n",
       " ['m3_data/el_val/part-02572-4daef64f-d0c0-4576-81fc-a8b0c319b0ac-c000.csv'],\n",
       " ['m3_data/el_val/part-02567-4daef64f-d0c0-4576-81fc-a8b0c319b0ac-c000.csv'],\n",
       " ['m3_data/el_val/part-02636-4daef64f-d0c0-4576-81fc-a8b0c319b0ac-c000.csv'],\n",
       " ['m3_data/el_val/part-02505-4daef64f-d0c0-4576-81fc-a8b0c319b0ac-c000.csv'],\n",
       " ['m3_data/el_val/part-02534-4daef64f-d0c0-4576-81fc-a8b0c319b0ac-c000.csv'],\n",
       " ['m3_data/el_val/part-02790-4daef64f-d0c0-4576-81fc-a8b0c319b0ac-c000.csv'],\n",
       " ['m3_data/el_val/part-02792-4daef64f-d0c0-4576-81fc-a8b0c319b0ac-c000.csv'],\n",
       " ['m3_data/el_val/part-02697-4daef64f-d0c0-4576-81fc-a8b0c319b0ac-c000.csv'],\n",
       " ['m3_data/el_val/part-02497-4daef64f-d0c0-4576-81fc-a8b0c319b0ac-c000.csv'],\n",
       " ['m3_data/el_val/part-02767-4daef64f-d0c0-4576-81fc-a8b0c319b0ac-c000.csv'],\n",
       " ['m3_data/el_val/part-02786-4daef64f-d0c0-4576-81fc-a8b0c319b0ac-c000.csv'],\n",
       " ['m3_data/el_val/part-02512-4daef64f-d0c0-4576-81fc-a8b0c319b0ac-c000.csv'],\n",
       " ['m3_data/el_val/part-02764-4daef64f-d0c0-4576-81fc-a8b0c319b0ac-c000.csv'],\n",
       " ['m3_data/el_val/part-02477-4daef64f-d0c0-4576-81fc-a8b0c319b0ac-c000.csv'],\n",
       " ['m3_data/el_val/part-02596-4daef64f-d0c0-4576-81fc-a8b0c319b0ac-c000.csv'],\n",
       " ['m3_data/el_val/part-02532-4daef64f-d0c0-4576-81fc-a8b0c319b0ac-c000.csv'],\n",
       " ['m3_data/el_val/part-02547-4daef64f-d0c0-4576-81fc-a8b0c319b0ac-c000.csv'],\n",
       " ['m3_data/el_val/part-02473-4daef64f-d0c0-4576-81fc-a8b0c319b0ac-c000.csv'],\n",
       " ['m3_data/el_val/part-02401-4daef64f-d0c0-4576-81fc-a8b0c319b0ac-c000.csv'],\n",
       " ['m3_data/el_val/part-02664-4daef64f-d0c0-4576-81fc-a8b0c319b0ac-c000.csv'],\n",
       " ['m3_data/el_val/part-02418-4daef64f-d0c0-4576-81fc-a8b0c319b0ac-c000.csv'],\n",
       " ['m3_data/el_val/part-02615-4daef64f-d0c0-4576-81fc-a8b0c319b0ac-c000.csv'],\n",
       " ['m3_data/el_val/part-02557-4daef64f-d0c0-4576-81fc-a8b0c319b0ac-c000.csv'],\n",
       " ['m3_data/el_val/part-02417-4daef64f-d0c0-4576-81fc-a8b0c319b0ac-c000.csv'],\n",
       " ['m3_data/el_val/part-02502-4daef64f-d0c0-4576-81fc-a8b0c319b0ac-c000.csv'],\n",
       " ['m3_data/el_val/part-02491-4daef64f-d0c0-4576-81fc-a8b0c319b0ac-c000.csv'],\n",
       " ['m3_data/el_val/part-02552-4daef64f-d0c0-4576-81fc-a8b0c319b0ac-c000.csv'],\n",
       " ['m3_data/el_val/part-02620-4daef64f-d0c0-4576-81fc-a8b0c319b0ac-c000.csv'],\n",
       " ['m3_data/el_val/part-02638-4daef64f-d0c0-4576-81fc-a8b0c319b0ac-c000.csv'],\n",
       " ['m3_data/el_val/part-02781-4daef64f-d0c0-4576-81fc-a8b0c319b0ac-c000.csv'],\n",
       " ['m3_data/el_val/part-02779-4daef64f-d0c0-4576-81fc-a8b0c319b0ac-c000.csv'],\n",
       " ['m3_data/el_val/part-02708-4daef64f-d0c0-4576-81fc-a8b0c319b0ac-c000.csv'],\n",
       " ['m3_data/el_val/part-02748-4daef64f-d0c0-4576-81fc-a8b0c319b0ac-c000.csv'],\n",
       " ['m3_data/el_val/part-02475-4daef64f-d0c0-4576-81fc-a8b0c319b0ac-c000.csv'],\n",
       " ['m3_data/el_val/part-02760-4daef64f-d0c0-4576-81fc-a8b0c319b0ac-c000.csv'],\n",
       " ['m3_data/el_val/part-02741-4daef64f-d0c0-4576-81fc-a8b0c319b0ac-c000.csv'],\n",
       " ['m3_data/el_val/part-02654-4daef64f-d0c0-4576-81fc-a8b0c319b0ac-c000.csv'],\n",
       " ['m3_data/el_val/part-02751-4daef64f-d0c0-4576-81fc-a8b0c319b0ac-c000.csv'],\n",
       " ['m3_data/el_val/part-02546-4daef64f-d0c0-4576-81fc-a8b0c319b0ac-c000.csv'],\n",
       " ['m3_data/el_val/part-02452-4daef64f-d0c0-4576-81fc-a8b0c319b0ac-c000.csv'],\n",
       " ['m3_data/el_val/part-02765-4daef64f-d0c0-4576-81fc-a8b0c319b0ac-c000.csv'],\n",
       " ['m3_data/el_val/part-02777-4daef64f-d0c0-4576-81fc-a8b0c319b0ac-c000.csv'],\n",
       " ['m3_data/el_val/part-02663-4daef64f-d0c0-4576-81fc-a8b0c319b0ac-c000.csv'],\n",
       " ['m3_data/el_val/part-02445-4daef64f-d0c0-4576-81fc-a8b0c319b0ac-c000.csv'],\n",
       " ['m3_data/el_val/part-02548-4daef64f-d0c0-4576-81fc-a8b0c319b0ac-c000.csv'],\n",
       " ['m3_data/el_val/part-02450-4daef64f-d0c0-4576-81fc-a8b0c319b0ac-c000.csv'],\n",
       " ['m3_data/el_val/part-02704-4daef64f-d0c0-4576-81fc-a8b0c319b0ac-c000.csv'],\n",
       " ['m3_data/el_val/part-02432-4daef64f-d0c0-4576-81fc-a8b0c319b0ac-c000.csv'],\n",
       " ['m3_data/el_val/part-02739-4daef64f-d0c0-4576-81fc-a8b0c319b0ac-c000.csv'],\n",
       " ['m3_data/el_val/part-02449-4daef64f-d0c0-4576-81fc-a8b0c319b0ac-c000.csv'],\n",
       " ['m3_data/el_val/part-02482-4daef64f-d0c0-4576-81fc-a8b0c319b0ac-c000.csv'],\n",
       " ['m3_data/el_val/part-02529-4daef64f-d0c0-4576-81fc-a8b0c319b0ac-c000.csv'],\n",
       " ['m3_data/el_val/part-02746-4daef64f-d0c0-4576-81fc-a8b0c319b0ac-c000.csv'],\n",
       " ['m3_data/el_val/part-02455-4daef64f-d0c0-4576-81fc-a8b0c319b0ac-c000.csv'],\n",
       " ['m3_data/el_val/part-02511-4daef64f-d0c0-4576-81fc-a8b0c319b0ac-c000.csv'],\n",
       " ['m3_data/el_val/part-02780-4daef64f-d0c0-4576-81fc-a8b0c319b0ac-c000.csv'],\n",
       " ['m3_data/el_val/part-02694-4daef64f-d0c0-4576-81fc-a8b0c319b0ac-c000.csv'],\n",
       " ['m3_data/el_val/part-02433-4daef64f-d0c0-4576-81fc-a8b0c319b0ac-c000.csv'],\n",
       " ['m3_data/el_val/part-02569-4daef64f-d0c0-4576-81fc-a8b0c319b0ac-c000.csv'],\n",
       " ['m3_data/el_val/part-02668-4daef64f-d0c0-4576-81fc-a8b0c319b0ac-c000.csv'],\n",
       " ['m3_data/el_val/part-02597-4daef64f-d0c0-4576-81fc-a8b0c319b0ac-c000.csv'],\n",
       " ['m3_data/el_val/part-02701-4daef64f-d0c0-4576-81fc-a8b0c319b0ac-c000.csv'],\n",
       " ['m3_data/el_val/part-02444-4daef64f-d0c0-4576-81fc-a8b0c319b0ac-c000.csv'],\n",
       " ['m3_data/el_val/part-02644-4daef64f-d0c0-4576-81fc-a8b0c319b0ac-c000.csv'],\n",
       " ['m3_data/el_val/part-02712-4daef64f-d0c0-4576-81fc-a8b0c319b0ac-c000.csv'],\n",
       " ['m3_data/el_val/part-02526-4daef64f-d0c0-4576-81fc-a8b0c319b0ac-c000.csv'],\n",
       " ['m3_data/el_val/part-02771-4daef64f-d0c0-4576-81fc-a8b0c319b0ac-c000.csv'],\n",
       " ['m3_data/el_val/part-02415-4daef64f-d0c0-4576-81fc-a8b0c319b0ac-c000.csv'],\n",
       " ['m3_data/el_val/part-02621-4daef64f-d0c0-4576-81fc-a8b0c319b0ac-c000.csv'],\n",
       " ['m3_data/el_val/part-02574-4daef64f-d0c0-4576-81fc-a8b0c319b0ac-c000.csv'],\n",
       " ['m3_data/el_val/part-02554-4daef64f-d0c0-4576-81fc-a8b0c319b0ac-c000.csv'],\n",
       " ['m3_data/el_val/part-02653-4daef64f-d0c0-4576-81fc-a8b0c319b0ac-c000.csv'],\n",
       " ['m3_data/el_val/part-02580-4daef64f-d0c0-4576-81fc-a8b0c319b0ac-c000.csv'],\n",
       " ['m3_data/el_val/part-02772-4daef64f-d0c0-4576-81fc-a8b0c319b0ac-c000.csv'],\n",
       " ['m3_data/el_val/part-02400-4daef64f-d0c0-4576-81fc-a8b0c319b0ac-c000.csv'],\n",
       " ['m3_data/el_val/part-02785-4daef64f-d0c0-4576-81fc-a8b0c319b0ac-c000.csv'],\n",
       " ['m3_data/el_val/part-02661-4daef64f-d0c0-4576-81fc-a8b0c319b0ac-c000.csv'],\n",
       " ['m3_data/el_val/part-02576-4daef64f-d0c0-4576-81fc-a8b0c319b0ac-c000.csv'],\n",
       " ['m3_data/el_val/part-02705-4daef64f-d0c0-4576-81fc-a8b0c319b0ac-c000.csv'],\n",
       " ['m3_data/el_val/part-02419-4daef64f-d0c0-4576-81fc-a8b0c319b0ac-c000.csv'],\n",
       " ['m3_data/el_val/part-02608-4daef64f-d0c0-4576-81fc-a8b0c319b0ac-c000.csv'],\n",
       " ['m3_data/el_val/part-02717-4daef64f-d0c0-4576-81fc-a8b0c319b0ac-c000.csv'],\n",
       " ['m3_data/el_val/part-02594-4daef64f-d0c0-4576-81fc-a8b0c319b0ac-c000.csv'],\n",
       " ['m3_data/el_val/part-02556-4daef64f-d0c0-4576-81fc-a8b0c319b0ac-c000.csv'],\n",
       " ['m3_data/el_val/part-02688-4daef64f-d0c0-4576-81fc-a8b0c319b0ac-c000.csv'],\n",
       " ['m3_data/el_val/part-02799-4daef64f-d0c0-4576-81fc-a8b0c319b0ac-c000.csv'],\n",
       " ['m3_data/el_val/part-02525-4daef64f-d0c0-4576-81fc-a8b0c319b0ac-c000.csv'],\n",
       " ['m3_data/el_val/part-02501-4daef64f-d0c0-4576-81fc-a8b0c319b0ac-c000.csv'],\n",
       " ['m3_data/el_val/part-02756-4daef64f-d0c0-4576-81fc-a8b0c319b0ac-c000.csv'],\n",
       " ['m3_data/el_val/part-02504-4daef64f-d0c0-4576-81fc-a8b0c319b0ac-c000.csv'],\n",
       " ['m3_data/el_val/part-02639-4daef64f-d0c0-4576-81fc-a8b0c319b0ac-c000.csv'],\n",
       " ['m3_data/el_val/part-02787-4daef64f-d0c0-4576-81fc-a8b0c319b0ac-c000.csv'],\n",
       " ['m3_data/el_val/part-02486-4daef64f-d0c0-4576-81fc-a8b0c319b0ac-c000.csv'],\n",
       " ['m3_data/el_val/part-02560-4daef64f-d0c0-4576-81fc-a8b0c319b0ac-c000.csv'],\n",
       " ['m3_data/el_val/part-02480-4daef64f-d0c0-4576-81fc-a8b0c319b0ac-c000.csv'],\n",
       " ['m3_data/el_val/part-02544-4daef64f-d0c0-4576-81fc-a8b0c319b0ac-c000.csv'],\n",
       " ['m3_data/el_val/part-02607-4daef64f-d0c0-4576-81fc-a8b0c319b0ac-c000.csv'],\n",
       " ['m3_data/el_val/part-02555-4daef64f-d0c0-4576-81fc-a8b0c319b0ac-c000.csv'],\n",
       " ['m3_data/el_val/part-02466-4daef64f-d0c0-4576-81fc-a8b0c319b0ac-c000.csv'],\n",
       " ['m3_data/el_val/part-02612-4daef64f-d0c0-4576-81fc-a8b0c319b0ac-c000.csv'],\n",
       " ['m3_data/el_val/part-02692-4daef64f-d0c0-4576-81fc-a8b0c319b0ac-c000.csv'],\n",
       " ['m3_data/el_val/part-02602-4daef64f-d0c0-4576-81fc-a8b0c319b0ac-c000.csv'],\n",
       " ['m3_data/el_val/part-02467-4daef64f-d0c0-4576-81fc-a8b0c319b0ac-c000.csv'],\n",
       " ['m3_data/el_val/part-02422-4daef64f-d0c0-4576-81fc-a8b0c319b0ac-c000.csv'],\n",
       " ['m3_data/el_val/part-02566-4daef64f-d0c0-4576-81fc-a8b0c319b0ac-c000.csv'],\n",
       " ['m3_data/el_val/part-02610-4daef64f-d0c0-4576-81fc-a8b0c319b0ac-c000.csv'],\n",
       " ['m3_data/el_val/part-02759-4daef64f-d0c0-4576-81fc-a8b0c319b0ac-c000.csv'],\n",
       " ['m3_data/el_val/part-02783-4daef64f-d0c0-4576-81fc-a8b0c319b0ac-c000.csv'],\n",
       " ['m3_data/el_val/part-02465-4daef64f-d0c0-4576-81fc-a8b0c319b0ac-c000.csv'],\n",
       " ['m3_data/el_val/part-02651-4daef64f-d0c0-4576-81fc-a8b0c319b0ac-c000.csv'],\n",
       " ['m3_data/el_val/part-02463-4daef64f-d0c0-4576-81fc-a8b0c319b0ac-c000.csv'],\n",
       " ['m3_data/el_val/part-02677-4daef64f-d0c0-4576-81fc-a8b0c319b0ac-c000.csv'],\n",
       " ['m3_data/el_val/part-02652-4daef64f-d0c0-4576-81fc-a8b0c319b0ac-c000.csv'],\n",
       " ['m3_data/el_val/part-02476-4daef64f-d0c0-4576-81fc-a8b0c319b0ac-c000.csv'],\n",
       " ['m3_data/el_val/part-02457-4daef64f-d0c0-4576-81fc-a8b0c319b0ac-c000.csv'],\n",
       " ['m3_data/el_val/part-02655-4daef64f-d0c0-4576-81fc-a8b0c319b0ac-c000.csv'],\n",
       " ['m3_data/el_val/part-02775-4daef64f-d0c0-4576-81fc-a8b0c319b0ac-c000.csv'],\n",
       " ['m3_data/el_val/part-02796-4daef64f-d0c0-4576-81fc-a8b0c319b0ac-c000.csv'],\n",
       " ['m3_data/el_val/part-02698-4daef64f-d0c0-4576-81fc-a8b0c319b0ac-c000.csv'],\n",
       " ['m3_data/el_val/part-02413-4daef64f-d0c0-4576-81fc-a8b0c319b0ac-c000.csv'],\n",
       " ['m3_data/el_val/part-02409-4daef64f-d0c0-4576-81fc-a8b0c319b0ac-c000.csv'],\n",
       " ['m3_data/el_val/part-02528-4daef64f-d0c0-4576-81fc-a8b0c319b0ac-c000.csv'],\n",
       " ['m3_data/el_val/part-02586-4daef64f-d0c0-4576-81fc-a8b0c319b0ac-c000.csv'],\n",
       " ['m3_data/el_val/part-02703-4daef64f-d0c0-4576-81fc-a8b0c319b0ac-c000.csv'],\n",
       " ['m3_data/el_val/part-02421-4daef64f-d0c0-4576-81fc-a8b0c319b0ac-c000.csv'],\n",
       " ['m3_data/el_val/part-02406-4daef64f-d0c0-4576-81fc-a8b0c319b0ac-c000.csv'],\n",
       " ['m3_data/el_val/part-02407-4daef64f-d0c0-4576-81fc-a8b0c319b0ac-c000.csv'],\n",
       " ['m3_data/el_val/part-02426-4daef64f-d0c0-4576-81fc-a8b0c319b0ac-c000.csv'],\n",
       " ['m3_data/el_val/part-02633-4daef64f-d0c0-4576-81fc-a8b0c319b0ac-c000.csv'],\n",
       " ['m3_data/el_val/part-02573-4daef64f-d0c0-4576-81fc-a8b0c319b0ac-c000.csv'],\n",
       " ['m3_data/el_val/part-02585-4daef64f-d0c0-4576-81fc-a8b0c319b0ac-c000.csv'],\n",
       " ['m3_data/el_val/part-02684-4daef64f-d0c0-4576-81fc-a8b0c319b0ac-c000.csv'],\n",
       " ['m3_data/el_val/part-02559-4daef64f-d0c0-4576-81fc-a8b0c319b0ac-c000.csv'],\n",
       " ['m3_data/el_val/part-02763-4daef64f-d0c0-4576-81fc-a8b0c319b0ac-c000.csv']]"
      ]
     },
     "execution_count": 42,
     "metadata": {},
     "output_type": "execute_result"
    }
   ],
   "source": [
    "val_filenames"
   ]
  },
  {
   "cell_type": "code",
   "execution_count": 43,
   "metadata": {},
   "outputs": [],
   "source": [
    "set_size = 0\n",
    "for f in val_filenames:\n",
    "    set_size += pd.read_csv(f[0]).shape[0]"
   ]
  },
  {
   "cell_type": "code",
   "execution_count": 44,
   "metadata": {},
   "outputs": [
    {
     "data": {
      "text/plain": [
       "39588"
      ]
     },
     "execution_count": 44,
     "metadata": {},
     "output_type": "execute_result"
    }
   ],
   "source": [
    "set_size"
   ]
  },
  {
   "cell_type": "code",
   "execution_count": 46,
   "metadata": {},
   "outputs": [],
   "source": [
    "for i in range(1,1000):\n",
    "    if set_size%i==0:\n",
    "        b_size = i"
   ]
  },
  {
   "cell_type": "code",
   "execution_count": 47,
   "metadata": {},
   "outputs": [
    {
     "data": {
      "text/plain": [
       "12"
      ]
     },
     "execution_count": 47,
     "metadata": {},
     "output_type": "execute_result"
    }
   ],
   "source": [
    "b_size"
   ]
  },
  {
   "cell_type": "code",
   "execution_count": 48,
   "metadata": {},
   "outputs": [
    {
     "data": {
      "text/plain": [
       "3299"
      ]
     },
     "execution_count": 48,
     "metadata": {},
     "output_type": "execute_result"
    }
   ],
   "source": [
    "# b_size = 12\n",
    "# set_size = 39588\n",
    "val_steps_per_epoch = set_size//b_size\n",
    "val_steps_per_epoch"
   ]
  },
  {
   "cell_type": "code",
   "execution_count": 57,
   "metadata": {},
   "outputs": [],
   "source": [
    "data_iterator = read_dataset_w_memshpno(val_filenames, b_size=b_size)"
   ]
  },
  {
   "cell_type": "code",
   "execution_count": 61,
   "metadata": {},
   "outputs": [],
   "source": [
    "model = get_ts_model()\n",
    "model.load_weights(\"model_el_10_epochs.keras\")"
   ]
  },
  {
   "cell_type": "code",
   "execution_count": 65,
   "metadata": {},
   "outputs": [
    {
     "name": "stderr",
     "output_type": "stream",
     "text": [
      "100%|██████████| 3299/3299 [00:52<00:00, 62.63it/s]\n"
     ]
    }
   ],
   "source": [
    "for i in tqdm(range(val_steps_per_epoch)):\n",
    "    memshpnos, batch_in, month, y_true = data_iterator.next()\n",
    "    y_pred = model.predict_on_batch(batch_in)\n",
    "    y_pred = np.reshape(y_pred, (b_size,))\n",
    "    \n",
    "    batch_df = pd.DataFrame(data=np.column_stack((memshpnos, y_true, y_pred, month)), columns=(\"memshpno\", \"y_true\", \"y_pred\", \"month\"))\n",
    "    \n",
    "    batch_df[\"jan\"] = (batch_df[\"month\"]==25).astype(int)\n",
    "    batch_df[\"feb\"] = (batch_df[\"month\"]==26).astype(int)\n",
    "\n",
    "    batch_df.drop([\"month\"], axis=1, inplace=True)\n",
    "    \n",
    "    with open(\"final_m3_el_4.csv\", \"a\") as m3_file:\n",
    "        batch_df.to_csv(m3_file, index=False, header=True if i==0 else False)"
   ]
  },
  {
   "cell_type": "code",
   "execution_count": 1,
   "metadata": {},
   "outputs": [],
   "source": [
    "import pandas as pd"
   ]
  },
  {
   "cell_type": "code",
   "execution_count": 2,
   "metadata": {},
   "outputs": [],
   "source": [
    "df = pd.read_csv(\"final_m3_el_4.csv\")"
   ]
  },
  {
   "cell_type": "code",
   "execution_count": 3,
   "metadata": {},
   "outputs": [
    {
     "data": {
      "text/plain": [
       "(39588, 5)"
      ]
     },
     "execution_count": 3,
     "metadata": {},
     "output_type": "execute_result"
    }
   ],
   "source": [
    "df.shape"
   ]
  },
  {
   "cell_type": "code",
   "execution_count": 4,
   "metadata": {},
   "outputs": [
    {
     "data": {
      "text/html": [
       "<div>\n",
       "<style scoped>\n",
       "    .dataframe tbody tr th:only-of-type {\n",
       "        vertical-align: middle;\n",
       "    }\n",
       "\n",
       "    .dataframe tbody tr th {\n",
       "        vertical-align: top;\n",
       "    }\n",
       "\n",
       "    .dataframe thead th {\n",
       "        text-align: right;\n",
       "    }\n",
       "</style>\n",
       "<table border=\"1\" class=\"dataframe\">\n",
       "  <thead>\n",
       "    <tr style=\"text-align: right;\">\n",
       "      <th></th>\n",
       "      <th>memshpno</th>\n",
       "      <th>y_true</th>\n",
       "      <th>y_pred</th>\n",
       "      <th>jan</th>\n",
       "      <th>feb</th>\n",
       "    </tr>\n",
       "  </thead>\n",
       "  <tbody>\n",
       "    <tr>\n",
       "      <th>0</th>\n",
       "      <td>9.200006e+11</td>\n",
       "      <td>0.0</td>\n",
       "      <td>0.055884</td>\n",
       "      <td>0</td>\n",
       "      <td>1</td>\n",
       "    </tr>\n",
       "    <tr>\n",
       "      <th>1</th>\n",
       "      <td>6.400000e+11</td>\n",
       "      <td>0.0</td>\n",
       "      <td>0.057138</td>\n",
       "      <td>0</td>\n",
       "      <td>1</td>\n",
       "    </tr>\n",
       "    <tr>\n",
       "      <th>2</th>\n",
       "      <td>1.900001e+11</td>\n",
       "      <td>0.0</td>\n",
       "      <td>0.083713</td>\n",
       "      <td>1</td>\n",
       "      <td>0</td>\n",
       "    </tr>\n",
       "    <tr>\n",
       "      <th>3</th>\n",
       "      <td>9.400003e+11</td>\n",
       "      <td>1.0</td>\n",
       "      <td>0.254973</td>\n",
       "      <td>1</td>\n",
       "      <td>0</td>\n",
       "    </tr>\n",
       "    <tr>\n",
       "      <th>4</th>\n",
       "      <td>2.800000e+11</td>\n",
       "      <td>0.0</td>\n",
       "      <td>0.144156</td>\n",
       "      <td>0</td>\n",
       "      <td>1</td>\n",
       "    </tr>\n",
       "  </tbody>\n",
       "</table>\n",
       "</div>"
      ],
      "text/plain": [
       "       memshpno  y_true    y_pred  jan  feb\n",
       "0  9.200006e+11     0.0  0.055884    0    1\n",
       "1  6.400000e+11     0.0  0.057138    0    1\n",
       "2  1.900001e+11     0.0  0.083713    1    0\n",
       "3  9.400003e+11     1.0  0.254973    1    0\n",
       "4  2.800000e+11     0.0  0.144156    0    1"
      ]
     },
     "execution_count": 4,
     "metadata": {},
     "output_type": "execute_result"
    }
   ],
   "source": [
    "df.head()"
   ]
  },
  {
   "cell_type": "code",
   "execution_count": 71,
   "metadata": {},
   "outputs": [],
   "source": [
    "bought_df = df[df['y_true']==1]"
   ]
  },
  {
   "cell_type": "code",
   "execution_count": 72,
   "metadata": {},
   "outputs": [
    {
     "data": {
      "text/html": [
       "<div>\n",
       "<style scoped>\n",
       "    .dataframe tbody tr th:only-of-type {\n",
       "        vertical-align: middle;\n",
       "    }\n",
       "\n",
       "    .dataframe tbody tr th {\n",
       "        vertical-align: top;\n",
       "    }\n",
       "\n",
       "    .dataframe thead th {\n",
       "        text-align: right;\n",
       "    }\n",
       "</style>\n",
       "<table border=\"1\" class=\"dataframe\">\n",
       "  <thead>\n",
       "    <tr style=\"text-align: right;\">\n",
       "      <th></th>\n",
       "      <th>memshpno</th>\n",
       "      <th>y_true</th>\n",
       "      <th>y_pred</th>\n",
       "      <th>jan</th>\n",
       "      <th>feb</th>\n",
       "    </tr>\n",
       "  </thead>\n",
       "  <tbody>\n",
       "    <tr>\n",
       "      <th>3</th>\n",
       "      <td>9.400003e+11</td>\n",
       "      <td>1.0</td>\n",
       "      <td>0.254973</td>\n",
       "      <td>1</td>\n",
       "      <td>0</td>\n",
       "    </tr>\n",
       "    <tr>\n",
       "      <th>5</th>\n",
       "      <td>9.200008e+11</td>\n",
       "      <td>1.0</td>\n",
       "      <td>0.142765</td>\n",
       "      <td>1</td>\n",
       "      <td>0</td>\n",
       "    </tr>\n",
       "    <tr>\n",
       "      <th>7</th>\n",
       "      <td>9.200000e+11</td>\n",
       "      <td>1.0</td>\n",
       "      <td>0.340507</td>\n",
       "      <td>1</td>\n",
       "      <td>0</td>\n",
       "    </tr>\n",
       "    <tr>\n",
       "      <th>9</th>\n",
       "      <td>9.200003e+11</td>\n",
       "      <td>1.0</td>\n",
       "      <td>0.233682</td>\n",
       "      <td>0</td>\n",
       "      <td>1</td>\n",
       "    </tr>\n",
       "    <tr>\n",
       "      <th>10</th>\n",
       "      <td>9.200004e+11</td>\n",
       "      <td>1.0</td>\n",
       "      <td>0.104613</td>\n",
       "      <td>1</td>\n",
       "      <td>0</td>\n",
       "    </tr>\n",
       "  </tbody>\n",
       "</table>\n",
       "</div>"
      ],
      "text/plain": [
       "        memshpno  y_true    y_pred  jan  feb\n",
       "3   9.400003e+11     1.0  0.254973    1    0\n",
       "5   9.200008e+11     1.0  0.142765    1    0\n",
       "7   9.200000e+11     1.0  0.340507    1    0\n",
       "9   9.200003e+11     1.0  0.233682    0    1\n",
       "10  9.200004e+11     1.0  0.104613    1    0"
      ]
     },
     "execution_count": 72,
     "metadata": {},
     "output_type": "execute_result"
    }
   ],
   "source": [
    "bought_df.head()"
   ]
  },
  {
   "cell_type": "code",
   "execution_count": 77,
   "metadata": {},
   "outputs": [
    {
     "data": {
      "text/plain": [
       "(6553, 5)"
      ]
     },
     "execution_count": 77,
     "metadata": {},
     "output_type": "execute_result"
    }
   ],
   "source": [
    "bought_df.shape"
   ]
  },
  {
   "cell_type": "code",
   "execution_count": 80,
   "metadata": {},
   "outputs": [
    {
     "data": {
      "text/plain": [
       "(5302, 5)"
      ]
     },
     "execution_count": 80,
     "metadata": {},
     "output_type": "execute_result"
    }
   ],
   "source": [
    "bought_df.drop_duplicates(\"memshpno\").shape"
   ]
  },
  {
   "cell_type": "code",
   "execution_count": 76,
   "metadata": {},
   "outputs": [
    {
     "data": {
      "text/plain": [
       "(650, 5)"
      ]
     },
     "execution_count": 76,
     "metadata": {},
     "output_type": "execute_result"
    }
   ],
   "source": [
    "bought_df[bought_df[\"y_pred\"]>0.5].shape"
   ]
  },
  {
   "cell_type": "code",
   "execution_count": 82,
   "metadata": {},
   "outputs": [],
   "source": [
    "bought_df.drop([\"y_true\", \"y_pred\"], axis=1).to_csv(\"month_labels.csv\", header=True, index=False)"
   ]
  },
  {
   "cell_type": "code",
   "execution_count": null,
   "metadata": {},
   "outputs": [],
   "source": []
  },
  {
   "cell_type": "code",
   "execution_count": null,
   "metadata": {},
   "outputs": [],
   "source": []
  },
  {
   "cell_type": "code",
   "execution_count": null,
   "metadata": {},
   "outputs": [],
   "source": []
  }
 ],
 "metadata": {
  "kernelspec": {
   "display_name": "conda_tensorflow_p27",
   "language": "python",
   "name": "conda_tensorflow_p27"
  },
  "language_info": {
   "codemirror_mode": {
    "name": "ipython",
    "version": 2
   },
   "file_extension": ".py",
   "mimetype": "text/x-python",
   "name": "python",
   "nbconvert_exporter": "python",
   "pygments_lexer": "ipython2",
   "version": "2.7.15"
  }
 },
 "nbformat": 4,
 "nbformat_minor": 2
}
