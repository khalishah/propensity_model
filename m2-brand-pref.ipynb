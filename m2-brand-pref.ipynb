{
 "cells": [
  {
   "cell_type": "markdown",
   "metadata": {},
   "source": [
    ">> This section is the modeling phase for M-1 model"
   ]
  },
  {
   "cell_type": "code",
   "execution_count": 1,
   "metadata": {},
   "outputs": [
    {
     "name": "stderr",
     "output_type": "stream",
     "text": [
      "Using TensorFlow backend.\n"
     ]
    }
   ],
   "source": [
    "'''\n",
    "    Importing required python libraries\n",
    "'''\n",
    "\n",
    "import pandas as pd\n",
    "import numpy as np\n",
    "import os\n",
    "import pickle\n",
    "import matplotlib.pyplot as plt\n",
    "from sklearn.metrics import classification_report\n",
    "from sklearn.utils import shuffle\n",
    "\n",
    "try:\n",
    "    import tensorflow as tf\n",
    "    import keras\n",
    "except:\n",
    "    !pip install tensorflow\n",
    "    !pip install keras\n",
    "    import tensorflow as tf\n",
    "    import keras\n",
    "\n",
    "from keras.callbacks import EarlyStopping, ModelCheckpoint\n",
    "from keras.models import load_model\n",
    "layers = keras.layers\n",
    "\n",
    "pd.set_option('display.max_columns', None)\n",
    "pd.set_option('display.width', 200)\n",
    "\n",
    "import warnings\n",
    "warnings.filterwarnings(\"ignore\")"
   ]
  },
  {
   "cell_type": "code",
   "execution_count": 2,
   "metadata": {},
   "outputs": [
    {
     "name": "stdout",
     "output_type": "stream",
     "text": [
      "# of integer columns: 512\n",
      "# of float columns: 1125\n"
     ]
    }
   ],
   "source": [
    "'''\n",
    "    Reading list of integer and float variables stored in file_list directory\n",
    "    Also naming out model and history file\n",
    "'''\n",
    "\n",
    "cols_to_drop = ['memshpno', 'Bought_brand']\n",
    "\n",
    "_int = pd.read_csv('file_list/int_var.txt', header=None)\n",
    "_int = list(_int[0])\n",
    "print('# of integer columns: {}'.format(len(_int)))\n",
    "\n",
    "_float = pd.read_csv('file_list/float_var.txt', header=None)\n",
    "_float = list(_float[0])\n",
    "print('# of float columns: {}'.format(len(_float)))\n",
    "\n",
    "model_name = 'best_model_wt_1.h5'\n",
    "history_file = 'model_history/trainHistory_wt_1'"
   ]
  },
  {
   "cell_type": "code",
   "execution_count": 3,
   "metadata": {},
   "outputs": [],
   "source": [
    "'''\n",
    "    This chunk imports the lists of training and validation file names stored during preprocessing\n",
    "'''\n",
    "\n",
    "train_files = pd.read_csv('file_list/train_files.txt', header=None)\n",
    "train_files = list(train_files[0])\n",
    "validation_files = pd.read_csv('file_list/validation_files.txt', header=None)\n",
    "validation_files = list(validation_files[0])"
   ]
  },
  {
   "cell_type": "code",
   "execution_count": 4,
   "metadata": {},
   "outputs": [],
   "source": [
    "''' \n",
    "    Generator Function reads csvs from list with each csv individually read in chunks of 5000 records \n",
    "'''\n",
    "\n",
    "def train_generator(file_list):\n",
    "    import os\n",
    "    while True:\n",
    "        for i in range(len(file_list)):\n",
    "            df = pd.read_csv(file_list[i], chunksize=5000)\n",
    "            for chunk in df:\n",
    "                chunk = chunk.fillna(0)\n",
    "                label = chunk['Bought_brand']\n",
    "                chunk.drop(cols_to_drop, axis=1, inplace=True)\n",
    "                deep = chunk[_float]\n",
    "                wide = chunk[_int]\n",
    "                inputs = [wide.values, deep.values]\n",
    "                yield inputs, label"
   ]
  },
  {
   "cell_type": "code",
   "execution_count": 5,
   "metadata": {},
   "outputs": [],
   "source": [
    "''' \n",
    "    Generator Function reads csvs from list with each csv individually read in chunks of 5000 records \n",
    "'''\n",
    "\n",
    "def generator(file_list):\n",
    "    import os\n",
    "    while True:\n",
    "        for i in range(len(file_list)):\n",
    "            df = pd.read_csv(file_list[i], chunksize=5000)\n",
    "            for chunk in df:\n",
    "                chunk = chunk.fillna(0)\n",
    "                label = chunk['Bought_brand']\n",
    "                chunk.drop(cols_to_drop, axis=1, inplace=True)\n",
    "                deep = chunk[_float]\n",
    "                wide = chunk[_int]\n",
    "                inputs = [wide.values, deep.values]\n",
    "                yield inputs, label"
   ]
  },
  {
   "cell_type": "code",
   "execution_count": 6,
   "metadata": {},
   "outputs": [
    {
     "name": "stdout",
     "output_type": "stream",
     "text": [
      "WARNING:tensorflow:From /home/ec2-user/anaconda3/envs/python3/lib/python3.6/site-packages/tensorflow/python/framework/op_def_library.py:263: colocate_with (from tensorflow.python.framework.ops) is deprecated and will be removed in a future version.\n",
      "Instructions for updating:\n",
      "Colocations handled automatically by placer.\n"
     ]
    }
   ],
   "source": [
    "''' \n",
    "    Keras model architecture (deep and wide architecture)\n",
    "'''\n",
    "\n",
    "wide_inputs = layers.Input(shape=(len(_int),))\n",
    "wide_inputs_1 = layers.Dense(128, activation='relu')(wide_inputs)\n",
    "wide_inputs_2 = layers.Dense(64, activation='relu')(wide_inputs_1)\n",
    "wide_inputs_3 = layers.Dense(32, activation='relu')(wide_inputs_2)\n",
    "\n",
    "dense_inputs = layers.Input(shape=(len(_float),))\n",
    "dense_inputs_1 = layers.Dense(128, activation='relu')(dense_inputs)\n",
    "dense_inputs_2 = layers.Dense(64, activation='relu')(dense_inputs_1)\n",
    "dense_inputs_3 = layers.Dense(32, activation='relu')(dense_inputs_2)\n",
    "\n",
    "merge = layers.concatenate([wide_inputs_3, dense_inputs_3])\n",
    "\n",
    "hidden1 = layers.Dense(32, activation='relu')(merge)\n",
    "hidden2 = layers.Dense(16, activation='relu')(hidden1)\n",
    "output = layers.Dense(1, activation='sigmoid')(hidden2)\n",
    "\n",
    "model = keras.Model(inputs=[wide_inputs, dense_inputs], outputs=output)\n",
    "model.compile(loss='mse', optimizer='adam', metrics=['accuracy'])"
   ]
  },
  {
   "cell_type": "code",
   "execution_count": 7,
   "metadata": {
    "scrolled": true
   },
   "outputs": [
    {
     "name": "stdout",
     "output_type": "stream",
     "text": [
      "__________________________________________________________________________________________________\n",
      "Layer (type)                    Output Shape         Param #     Connected to                     \n",
      "==================================================================================================\n",
      "input_1 (InputLayer)            (None, 512)          0                                            \n",
      "__________________________________________________________________________________________________\n",
      "input_2 (InputLayer)            (None, 1125)         0                                            \n",
      "__________________________________________________________________________________________________\n",
      "dense_1 (Dense)                 (None, 128)          65664       input_1[0][0]                    \n",
      "__________________________________________________________________________________________________\n",
      "dense_4 (Dense)                 (None, 128)          144128      input_2[0][0]                    \n",
      "__________________________________________________________________________________________________\n",
      "dense_2 (Dense)                 (None, 64)           8256        dense_1[0][0]                    \n",
      "__________________________________________________________________________________________________\n",
      "dense_5 (Dense)                 (None, 64)           8256        dense_4[0][0]                    \n",
      "__________________________________________________________________________________________________\n",
      "dense_3 (Dense)                 (None, 32)           2080        dense_2[0][0]                    \n",
      "__________________________________________________________________________________________________\n",
      "dense_6 (Dense)                 (None, 32)           2080        dense_5[0][0]                    \n",
      "__________________________________________________________________________________________________\n",
      "concatenate_1 (Concatenate)     (None, 64)           0           dense_3[0][0]                    \n",
      "                                                                 dense_6[0][0]                    \n",
      "__________________________________________________________________________________________________\n",
      "dense_7 (Dense)                 (None, 32)           2080        concatenate_1[0][0]              \n",
      "__________________________________________________________________________________________________\n",
      "dense_8 (Dense)                 (None, 16)           528         dense_7[0][0]                    \n",
      "__________________________________________________________________________________________________\n",
      "dense_9 (Dense)                 (None, 1)            17          dense_8[0][0]                    \n",
      "==================================================================================================\n",
      "Total params: 233,089\n",
      "Trainable params: 233,089\n",
      "Non-trainable params: 0\n",
      "__________________________________________________________________________________________________\n"
     ]
    }
   ],
   "source": [
    "''' \n",
    "    Visualizing model architecture\n",
    "'''\n",
    "\n",
    "model.summary()"
   ]
  },
  {
   "cell_type": "code",
   "execution_count": 8,
   "metadata": {},
   "outputs": [],
   "source": [
    "''' \n",
    "    Initializing train and validation generators\n",
    "'''\n",
    "\n",
    "train_g = train_generator(train_files)\n",
    "validation_g = generator(validation_files)"
   ]
  },
  {
   "cell_type": "code",
   "execution_count": 9,
   "metadata": {},
   "outputs": [],
   "source": [
    "''' \n",
    "    Early Stopping and Call Backs \n",
    "'''\n",
    "\n",
    "model_path = \"model\"\n",
    "path = os.path.join(model_path, model_name)\n",
    "callbacks = [EarlyStopping(monitor='val_loss', patience=3), \n",
    "                 ModelCheckpoint(filepath=path, monitor='val_loss', save_best_only=True)]"
   ]
  },
  {
   "cell_type": "code",
   "execution_count": null,
   "metadata": {},
   "outputs": [
    {
     "name": "stdout",
     "output_type": "stream",
     "text": [
      "WARNING:tensorflow:From /home/ec2-user/anaconda3/envs/python3/lib/python3.6/site-packages/tensorflow/python/ops/math_ops.py:3066: to_int32 (from tensorflow.python.ops.math_ops) is deprecated and will be removed in a future version.\n",
      "Instructions for updating:\n",
      "Use tf.cast instead.\n",
      "Epoch 1/10\n",
      "753/900 [========================>.....] - ETA: 3:15 - loss: 0.1045 - acc: 0.8618"
     ]
    }
   ],
   "source": [
    "''' \n",
    "    Model execution\n",
    "'''\n",
    "\n",
    "final_model = model.fit_generator(train_g, epochs=10, steps_per_epoch=(len(train_files)*5), \\\n",
    "                                  validation_data=validation_g, validation_steps=(len(validation_files)*4), \\\n",
    "                                 callbacks=callbacks, max_q_size=1, use_multiprocessing=True)"
   ]
  },
  {
   "cell_type": "code",
   "execution_count": null,
   "metadata": {},
   "outputs": [],
   "source": [
    "''' \n",
    "    Saving model history for future visualization\n",
    "'''\n",
    "\n",
    "with open(history_file, 'wb') as handle: \n",
    "    pickle.dump(final_model.history, handle)"
   ]
  },
  {
   "cell_type": "code",
   "execution_count": null,
   "metadata": {},
   "outputs": [],
   "source": [
    "''' \n",
    "    Plotting training and validation loss\n",
    "'''\n",
    "\n",
    "# plot training and validation loss\n",
    "training_loss = final_model.history['loss']\n",
    "test_loss = final_model.history['val_loss']\n",
    "\n",
    "epoch_count = range(1, len(training_loss) + 1)\n",
    "\n",
    "plt.plot(epoch_count, training_loss, 'r--')\n",
    "plt.plot(epoch_count, test_loss, 'b-')\n",
    "plt.legend(['Training Loss', 'Test Loss'])\n",
    "plt.xlabel('Epoch')\n",
    "plt.ylabel('Loss')\n",
    "plt.show();"
   ]
  },
  {
   "cell_type": "code",
   "execution_count": null,
   "metadata": {},
   "outputs": [],
   "source": [
    "''' \n",
    "    Plotting training and validation accuracies\n",
    "'''\n",
    "\n",
    "# Get training and validation accuracies\n",
    "training_acc = final_model.history['acc']\n",
    "test_acc = final_model.history['val_acc']\n",
    "\n",
    "epoch_count = range(1, len(training_acc) + 1)\n",
    "\n",
    "plt.plot(epoch_count, training_acc, 'r--')\n",
    "plt.plot(epoch_count, test_acc, 'b-')\n",
    "plt.legend(['Training Accuracy', 'Test Accuracy'])\n",
    "plt.xlabel('Epoch')\n",
    "plt.ylabel('Accuracy')\n",
    "plt.show();"
   ]
  },
  {
   "cell_type": "markdown",
   "metadata": {},
   "source": [
    "# Test Section"
   ]
  },
  {
   "cell_type": "markdown",
   "metadata": {},
   "source": [
    ">> This is the test section where unseen test data is predicted through the M-1 model created in previous section. Following section extract labels on the validation dataset as well"
   ]
  },
  {
   "cell_type": "code",
   "execution_count": 1,
   "metadata": {},
   "outputs": [
    {
     "name": "stderr",
     "output_type": "stream",
     "text": [
      "Using TensorFlow backend.\n"
     ]
    }
   ],
   "source": [
    "'''\n",
    "    Importing required python libraries\n",
    "'''\n",
    "\n",
    "import pandas as pd\n",
    "import numpy as np\n",
    "import os\n",
    "import pickle\n",
    "import matplotlib.pyplot as plt\n",
    "from sklearn.metrics import classification_report\n",
    "from sklearn.utils import shuffle\n",
    "\n",
    "try:\n",
    "    import tensorflow as tf\n",
    "    import keras\n",
    "except:\n",
    "    !pip install tensorflow\n",
    "    !pip install keras\n",
    "    import tensorflow as tf\n",
    "    import keras\n",
    "\n",
    "from keras.callbacks import EarlyStopping, ModelCheckpoint\n",
    "from keras.models import load_model\n",
    "layers = keras.layers\n",
    "\n",
    "pd.set_option('display.max_columns', None)\n",
    "pd.set_option('display.width', 200)\n",
    "\n",
    "import warnings\n",
    "warnings.filterwarnings(\"ignore\")"
   ]
  },
  {
   "cell_type": "code",
   "execution_count": 2,
   "metadata": {},
   "outputs": [
    {
     "name": "stdout",
     "output_type": "stream",
     "text": [
      "# of integer columns: 512\n",
      "# of float columns: 1125\n"
     ]
    }
   ],
   "source": [
    "'''\n",
    "    Reading list of integer and float variables stored in file_list directory\n",
    "    Also naming out model and history file\n",
    "'''\n",
    "\n",
    "cols_to_drop = ['memshpno', 'Bought_brand']\n",
    "\n",
    "_int = pd.read_csv('file_list/int_var.txt', header=None)\n",
    "_int = list(_int[0])\n",
    "print('# of integer columns: {}'.format(len(_int)))\n",
    "\n",
    "_float = pd.read_csv('file_list/float_var.txt', header=None)\n",
    "_float = list(_float[0])\n",
    "print('# of float columns: {}'.format(len(_float)))\n",
    "\n",
    "model_name = 'best_model_wt_1.h5'\n",
    "history_file = 'model_history/trainHistory_wt_1'"
   ]
  },
  {
   "cell_type": "code",
   "execution_count": 3,
   "metadata": {},
   "outputs": [],
   "source": [
    "''' \n",
    "    Generator Function reads csvs from list with each csv individually read in chunks of 5000 records \n",
    "'''\n",
    "\n",
    "def generator(file_list):\n",
    "    import os\n",
    "    while True:\n",
    "        for i in range(len(file_list)):\n",
    "            df = pd.read_csv(file_list[i], chunksize=5000)\n",
    "            for chunk in df:\n",
    "                chunk = chunk.fillna(0)\n",
    "                label = chunk['Bought_brand']\n",
    "                chunk.drop(cols_to_drop, axis=1, inplace=True)\n",
    "                deep = chunk[_float]\n",
    "                wide = chunk[_int]\n",
    "                inputs = [wide.values, deep.values]\n",
    "                yield inputs, label"
   ]
  },
  {
   "cell_type": "code",
   "execution_count": 4,
   "metadata": {},
   "outputs": [
    {
     "data": {
      "image/png": "[encoded data removed]",
      "text/plain": [
       "<Figure size 432x288 with 1 Axes>"
      ]
     },
     "metadata": {},
     "output_type": "display_data"
    },
    {
     "data": {
      "image/png": "[encoded data removed]",
      "text/plain": [
       "<Figure size 432x288 with 1 Axes>"
      ]
     },
     "metadata": {},
     "output_type": "display_data"
    }
   ],
   "source": [
    "''' \n",
    "    Plotting training and validation loss and accuracies\n",
    "'''\n",
    "\n",
    "try:\n",
    "    history = pickle.load(open(history_file, 'rb'))\n",
    "\n",
    "    # plot training and validation loss\n",
    "    training_loss = history['loss']\n",
    "    test_loss = history['val_loss']\n",
    "\n",
    "    epoch_count = range(1, len(training_loss) + 1)\n",
    "\n",
    "    plt.plot(epoch_count, training_loss, 'r--')\n",
    "    plt.plot(epoch_count, test_loss, 'b-')\n",
    "    plt.legend(['Training Loss', 'Test Loss'])\n",
    "    plt.xlabel('Epoch')\n",
    "    plt.ylabel('Loss')\n",
    "    plt.show();\n",
    "\n",
    "    # Get training and validation accuracies\n",
    "    training_acc = history['acc']\n",
    "    test_acc = history['val_acc']\n",
    "\n",
    "    epoch_count = range(1, len(training_acc) + 1)\n",
    "\n",
    "    plt.plot(epoch_count, training_acc, 'r--')\n",
    "    plt.plot(epoch_count, test_acc, 'b-')\n",
    "    plt.legend(['Training Accuracy', 'Test Accuracy'])\n",
    "    plt.xlabel('Epoch')\n",
    "    plt.ylabel('Accuracy')\n",
    "    plt.show();\n",
    "except:\n",
    "    pass"
   ]
  },
  {
   "cell_type": "code",
   "execution_count": 5,
   "metadata": {},
   "outputs": [],
   "source": [
    "'''\n",
    "    This chunk imports the lists of test file names stored during preprocessing\n",
    "'''\n",
    "\n",
    "test_files = pd.read_csv('file_list/test_files.txt', header=None)\n",
    "test_files = list(test_files[0])"
   ]
  },
  {
   "cell_type": "code",
   "execution_count": 6,
   "metadata": {},
   "outputs": [
    {
     "name": "stdout",
     "output_type": "stream",
     "text": [
      "WARNING:tensorflow:From /home/ec2-user/anaconda3/envs/python3/lib/python3.6/site-packages/tensorflow/python/framework/op_def_library.py:263: colocate_with (from tensorflow.python.framework.ops) is deprecated and will be removed in a future version.\n",
      "Instructions for updating:\n",
      "Colocations handled automatically by placer.\n",
      "WARNING:tensorflow:From /home/ec2-user/anaconda3/envs/python3/lib/python3.6/site-packages/tensorflow/python/ops/math_ops.py:3066: to_int32 (from tensorflow.python.ops.math_ops) is deprecated and will be removed in a future version.\n",
      "Instructions for updating:\n",
      "Use tf.cast instead.\n"
     ]
    }
   ],
   "source": [
    "'''\n",
    "    Loading model and initializing test generator\n",
    "'''\n",
    "\n",
    "model_path = \"model\"\n",
    "model = load_model(os.path.join(model_path, model_name))\n",
    "test_generator = generator(test_files)"
   ]
  },
  {
   "cell_type": "code",
   "execution_count": 7,
   "metadata": {},
   "outputs": [
    {
     "data": {
      "text/html": [
       "<div>\n",
       "<style scoped>\n",
       "    .dataframe tbody tr th:only-of-type {\n",
       "        vertical-align: middle;\n",
       "    }\n",
       "\n",
       "    .dataframe tbody tr th {\n",
       "        vertical-align: top;\n",
       "    }\n",
       "\n",
       "    .dataframe thead th {\n",
       "        text-align: right;\n",
       "    }\n",
       "</style>\n",
       "<table border=\"1\" class=\"dataframe\">\n",
       "  <thead>\n",
       "    <tr style=\"text-align: right;\">\n",
       "      <th></th>\n",
       "      <th>memshpno</th>\n",
       "      <th>Bought_brand</th>\n",
       "    </tr>\n",
       "  </thead>\n",
       "  <tbody>\n",
       "    <tr>\n",
       "      <th>0</th>\n",
       "      <td>110000106810</td>\n",
       "      <td>0</td>\n",
       "    </tr>\n",
       "    <tr>\n",
       "      <th>1</th>\n",
       "      <td>110000108481</td>\n",
       "      <td>0</td>\n",
       "    </tr>\n",
       "    <tr>\n",
       "      <th>2</th>\n",
       "      <td>110000109446</td>\n",
       "      <td>1</td>\n",
       "    </tr>\n",
       "    <tr>\n",
       "      <th>3</th>\n",
       "      <td>110000109772</td>\n",
       "      <td>0</td>\n",
       "    </tr>\n",
       "    <tr>\n",
       "      <th>4</th>\n",
       "      <td>110000110087</td>\n",
       "      <td>0</td>\n",
       "    </tr>\n",
       "  </tbody>\n",
       "</table>\n",
       "</div>"
      ],
      "text/plain": [
       "       memshpno  Bought_brand\n",
       "0  110000106810             0\n",
       "1  110000108481             0\n",
       "2  110000109446             1\n",
       "3  110000109772             0\n",
       "4  110000110087             0"
      ]
     },
     "execution_count": 7,
     "metadata": {},
     "output_type": "execute_result"
    }
   ],
   "source": [
    "'''\n",
    "    Loading original test labels for comparison with predictions\n",
    "'''\n",
    "\n",
    "original_labels = pd.read_csv('file_list/test_labels.csv')\n",
    "original_labels.head()"
   ]
  },
  {
   "cell_type": "code",
   "execution_count": 8,
   "metadata": {},
   "outputs": [
    {
     "name": "stdout",
     "output_type": "stream",
     "text": [
      "50/50 [==============================] - 61s 1s/step\n"
     ]
    }
   ],
   "source": [
    "'''\n",
    "    Predicitons\n",
    "'''\n",
    "\n",
    "predictions = model.predict_generator(test_generator, steps=len(test_files)*5, verbose=1)"
   ]
  },
  {
   "cell_type": "code",
   "execution_count": 9,
   "metadata": {},
   "outputs": [],
   "source": [
    "'''\n",
    "    Adding predictions to original labels\n",
    "'''\n",
    "\n",
    "new_prediction_labels = pd.DataFrame(predictions)\n",
    "new_prediction_labels.columns = ['propensity']"
   ]
  },
  {
   "cell_type": "code",
   "execution_count": 10,
   "metadata": {},
   "outputs": [
    {
     "name": "stdout",
     "output_type": "stream",
     "text": [
      "99\r"
     ]
    }
   ],
   "source": [
    "'''\n",
    "    Calculating optimal cut_off using area under curve\n",
    "'''\n",
    "\n",
    "import sklearn.metrics as metrics\n",
    "\n",
    "AUC_score = []\n",
    "for i in range(1, 100):\n",
    "    new_prediction_labels['label'] = 0\n",
    "    new_prediction_labels['label'][new_prediction_labels['propensity']>i/100] = 1\n",
    "    fpr, tpr, threshold = metrics.roc_curve(original_labels['Bought_brand'], new_prediction_labels['label'])\n",
    "    roc_auc = metrics.auc(fpr, tpr)\n",
    "    AUC_score.append([i/100, roc_auc])\n",
    "    print(i, end='\\r')"
   ]
  },
  {
   "cell_type": "code",
   "execution_count": 11,
   "metadata": {},
   "outputs": [
    {
     "data": {
      "text/html": [
       "<div>\n",
       "<style scoped>\n",
       "    .dataframe tbody tr th:only-of-type {\n",
       "        vertical-align: middle;\n",
       "    }\n",
       "\n",
       "    .dataframe tbody tr th {\n",
       "        vertical-align: top;\n",
       "    }\n",
       "\n",
       "    .dataframe thead th {\n",
       "        text-align: right;\n",
       "    }\n",
       "</style>\n",
       "<table border=\"1\" class=\"dataframe\">\n",
       "  <thead>\n",
       "    <tr style=\"text-align: right;\">\n",
       "      <th></th>\n",
       "      <th>threshold</th>\n",
       "      <th>auc</th>\n",
       "    </tr>\n",
       "  </thead>\n",
       "  <tbody>\n",
       "    <tr>\n",
       "      <th>18</th>\n",
       "      <td>0.19</td>\n",
       "      <td>0.921090</td>\n",
       "    </tr>\n",
       "    <tr>\n",
       "      <th>19</th>\n",
       "      <td>0.20</td>\n",
       "      <td>0.920970</td>\n",
       "    </tr>\n",
       "    <tr>\n",
       "      <th>21</th>\n",
       "      <td>0.22</td>\n",
       "      <td>0.920881</td>\n",
       "    </tr>\n",
       "    <tr>\n",
       "      <th>20</th>\n",
       "      <td>0.21</td>\n",
       "      <td>0.920873</td>\n",
       "    </tr>\n",
       "    <tr>\n",
       "      <th>22</th>\n",
       "      <td>0.23</td>\n",
       "      <td>0.920863</td>\n",
       "    </tr>\n",
       "  </tbody>\n",
       "</table>\n",
       "</div>"
      ],
      "text/plain": [
       "    threshold       auc\n",
       "18       0.19  0.921090\n",
       "19       0.20  0.920970\n",
       "21       0.22  0.920881\n",
       "20       0.21  0.920873\n",
       "22       0.23  0.920863"
      ]
     },
     "execution_count": 11,
     "metadata": {},
     "output_type": "execute_result"
    }
   ],
   "source": [
    "'''\n",
    "    Calculating optimal cut_off using area under curve\n",
    "'''\n",
    "\n",
    "AUC_score = pd.DataFrame(AUC_score)\n",
    "AUC_score.columns = ['threshold', 'auc']\n",
    "AUC_score.sort_values(by=['auc'], inplace=True, ascending=False)\n",
    "AUC_score.head()"
   ]
  },
  {
   "cell_type": "code",
   "execution_count": 12,
   "metadata": {},
   "outputs": [
    {
     "name": "stdout",
     "output_type": "stream",
     "text": [
      "             precision    recall  f1-score   support\n",
      "\n",
      "          0       0.98      0.91      0.95    197700\n",
      "          1       0.68      0.93      0.78     38620\n",
      "\n",
      "avg / total       0.93      0.92      0.92    236320\n",
      "\n"
     ]
    }
   ],
   "source": [
    "'''\n",
    "    Confusion matrix with best cut_off\n",
    "'''\n",
    "\n",
    "new_prediction_labels['label'] = 0\n",
    "new_prediction_labels['label'][new_prediction_labels['propensity']>AUC_score.iloc[0][0]] = 1\n",
    "print(classification_report(original_labels['Bought_brand'], new_prediction_labels['label'], target_names=None))"
   ]
  },
  {
   "cell_type": "code",
   "execution_count": 13,
   "metadata": {},
   "outputs": [
    {
     "data": {
      "image/png": "[encoded data removed]",
      "text/plain": [
       "<Figure size 432x288 with 1 Axes>"
      ]
     },
     "metadata": {},
     "output_type": "display_data"
    }
   ],
   "source": [
    "'''\n",
    "    Plotting area under curve\n",
    "'''\n",
    "\n",
    "fpr, tpr, threshold = metrics.roc_curve(original_labels['Bought_brand'], new_prediction_labels['label'])\n",
    "roc_auc = metrics.auc(fpr, tpr)\n",
    "\n",
    "import matplotlib.pyplot as plt\n",
    "plt.title('Receiver Operating Characteristic')\n",
    "plt.plot(fpr, tpr, 'b', label = 'AUC = %0.2f' % roc_auc)\n",
    "plt.legend(loc = 'lower right')\n",
    "plt.plot([0, 1], [0, 1],'r--')\n",
    "plt.xlim([0, 1])\n",
    "plt.ylim([0, 1])\n",
    "plt.ylabel('True Positive Rate')\n",
    "plt.xlabel('False Positive Rate')\n",
    "plt.show()"
   ]
  },
  {
   "cell_type": "markdown",
   "metadata": {},
   "source": [
    "# Accuracy on Validation Set"
   ]
  },
  {
   "cell_type": "code",
   "execution_count": 14,
   "metadata": {},
   "outputs": [],
   "source": [
    "'''\n",
    "    This chunk imports the lists of validation file names store during preprocessing\n",
    "'''\n",
    "\n",
    "test_files = pd.read_csv('file_list/validation_files.txt', header=None)\n",
    "test_files = list(test_files[0])"
   ]
  },
  {
   "cell_type": "code",
   "execution_count": 15,
   "metadata": {},
   "outputs": [],
   "source": [
    "'''\n",
    "    Loading model and initializing test generator\n",
    "'''\n",
    "\n",
    "model_path = \"model\"\n",
    "model = load_model(os.path.join(model_path, model_name))\n",
    "test_generator = generator(test_files)"
   ]
  },
  {
   "cell_type": "code",
   "execution_count": 16,
   "metadata": {},
   "outputs": [
    {
     "data": {
      "text/html": [
       "<div>\n",
       "<style scoped>\n",
       "    .dataframe tbody tr th:only-of-type {\n",
       "        vertical-align: middle;\n",
       "    }\n",
       "\n",
       "    .dataframe tbody tr th {\n",
       "        vertical-align: top;\n",
       "    }\n",
       "\n",
       "    .dataframe thead th {\n",
       "        text-align: right;\n",
       "    }\n",
       "</style>\n",
       "<table border=\"1\" class=\"dataframe\">\n",
       "  <thead>\n",
       "    <tr style=\"text-align: right;\">\n",
       "      <th></th>\n",
       "      <th>memshpno</th>\n",
       "      <th>Bought_brand</th>\n",
       "    </tr>\n",
       "  </thead>\n",
       "  <tbody>\n",
       "    <tr>\n",
       "      <th>0</th>\n",
       "      <td>110000107350</td>\n",
       "      <td>1</td>\n",
       "    </tr>\n",
       "    <tr>\n",
       "      <th>1</th>\n",
       "      <td>110000110182</td>\n",
       "      <td>0</td>\n",
       "    </tr>\n",
       "    <tr>\n",
       "      <th>2</th>\n",
       "      <td>110000112524</td>\n",
       "      <td>0</td>\n",
       "    </tr>\n",
       "    <tr>\n",
       "      <th>3</th>\n",
       "      <td>110000112887</td>\n",
       "      <td>0</td>\n",
       "    </tr>\n",
       "    <tr>\n",
       "      <th>4</th>\n",
       "      <td>110000115262</td>\n",
       "      <td>0</td>\n",
       "    </tr>\n",
       "  </tbody>\n",
       "</table>\n",
       "</div>"
      ],
      "text/plain": [
       "       memshpno  Bought_brand\n",
       "0  110000107350             1\n",
       "1  110000110182             0\n",
       "2  110000112524             0\n",
       "3  110000112887             0\n",
       "4  110000115262             0"
      ]
     },
     "execution_count": 16,
     "metadata": {},
     "output_type": "execute_result"
    }
   ],
   "source": [
    "'''\n",
    "    Loading original test labels for comparison with predictions\n",
    "'''\n",
    "\n",
    "original_labels = pd.read_csv('file_list/validation_labels.csv')\n",
    "original_labels.head()"
   ]
  },
  {
   "cell_type": "code",
   "execution_count": 17,
   "metadata": {},
   "outputs": [
    {
     "name": "stdout",
     "output_type": "stream",
     "text": [
      "50/50 [==============================] - 51s 1s/step\n"
     ]
    }
   ],
   "source": [
    "'''\n",
    "    Predicitons\n",
    "'''\n",
    "\n",
    "predictions = model.predict_generator(test_generator, steps=len(test_files)*5, verbose=1)"
   ]
  },
  {
   "cell_type": "code",
   "execution_count": 18,
   "metadata": {},
   "outputs": [],
   "source": [
    "'''\n",
    "    Adding predictions to original labels\n",
    "'''\n",
    "\n",
    "new_prediction_labels = pd.DataFrame(predictions)\n",
    "new_prediction_labels.columns = ['propensity']"
   ]
  },
  {
   "cell_type": "code",
   "execution_count": 19,
   "metadata": {},
   "outputs": [
    {
     "name": "stdout",
     "output_type": "stream",
     "text": [
      "99\r"
     ]
    }
   ],
   "source": [
    "'''\n",
    "    Calculating optimal cut_off using area under curve\n",
    "'''\n",
    "\n",
    "import sklearn.metrics as metrics\n",
    "\n",
    "AUC_score = []\n",
    "for i in range(1, 100):\n",
    "    new_prediction_labels['label'] = 0\n",
    "    new_prediction_labels['label'][new_prediction_labels['propensity']>i/100] = 1\n",
    "    fpr, tpr, threshold = metrics.roc_curve(original_labels['Bought_brand'], new_prediction_labels['label'])\n",
    "    roc_auc = metrics.auc(fpr, tpr)\n",
    "    AUC_score.append([i/100, roc_auc])\n",
    "    print(i, end='\\r')"
   ]
  },
  {
   "cell_type": "code",
   "execution_count": 20,
   "metadata": {},
   "outputs": [
    {
     "data": {
      "text/html": [
       "<div>\n",
       "<style scoped>\n",
       "    .dataframe tbody tr th:only-of-type {\n",
       "        vertical-align: middle;\n",
       "    }\n",
       "\n",
       "    .dataframe tbody tr th {\n",
       "        vertical-align: top;\n",
       "    }\n",
       "\n",
       "    .dataframe thead th {\n",
       "        text-align: right;\n",
       "    }\n",
       "</style>\n",
       "<table border=\"1\" class=\"dataframe\">\n",
       "  <thead>\n",
       "    <tr style=\"text-align: right;\">\n",
       "      <th></th>\n",
       "      <th>threshold</th>\n",
       "      <th>auc</th>\n",
       "    </tr>\n",
       "  </thead>\n",
       "  <tbody>\n",
       "    <tr>\n",
       "      <th>18</th>\n",
       "      <td>0.19</td>\n",
       "      <td>0.919475</td>\n",
       "    </tr>\n",
       "    <tr>\n",
       "      <th>19</th>\n",
       "      <td>0.20</td>\n",
       "      <td>0.919430</td>\n",
       "    </tr>\n",
       "    <tr>\n",
       "      <th>20</th>\n",
       "      <td>0.21</td>\n",
       "      <td>0.919402</td>\n",
       "    </tr>\n",
       "    <tr>\n",
       "      <th>21</th>\n",
       "      <td>0.22</td>\n",
       "      <td>0.919266</td>\n",
       "    </tr>\n",
       "    <tr>\n",
       "      <th>17</th>\n",
       "      <td>0.18</td>\n",
       "      <td>0.919256</td>\n",
       "    </tr>\n",
       "  </tbody>\n",
       "</table>\n",
       "</div>"
      ],
      "text/plain": [
       "    threshold       auc\n",
       "18       0.19  0.919475\n",
       "19       0.20  0.919430\n",
       "20       0.21  0.919402\n",
       "21       0.22  0.919266\n",
       "17       0.18  0.919256"
      ]
     },
     "execution_count": 20,
     "metadata": {},
     "output_type": "execute_result"
    }
   ],
   "source": [
    "'''\n",
    "    Calculating optimal cut_off using area under curve\n",
    "'''\n",
    "\n",
    "AUC_score = pd.DataFrame(AUC_score)\n",
    "AUC_score.columns = ['threshold', 'auc']\n",
    "AUC_score.sort_values(by=['auc'], inplace=True, ascending=False)\n",
    "AUC_score.head()"
   ]
  },
  {
   "cell_type": "code",
   "execution_count": 21,
   "metadata": {},
   "outputs": [
    {
     "name": "stdout",
     "output_type": "stream",
     "text": [
      "             precision    recall  f1-score   support\n",
      "\n",
      "          0       0.98      0.91      0.95    196912\n",
      "          1       0.68      0.92      0.78     38620\n",
      "\n",
      "avg / total       0.93      0.92      0.92    235532\n",
      "\n"
     ]
    }
   ],
   "source": [
    "'''\n",
    "    Confusion matrix with best cut_off\n",
    "'''\n",
    "\n",
    "new_prediction_labels['label'] = 0\n",
    "new_prediction_labels['label'][new_prediction_labels['propensity']>AUC_score.iloc[0][0]] = 1\n",
    "print(classification_report(original_labels['Bought_brand'], new_prediction_labels['label'], target_names=None))"
   ]
  },
  {
   "cell_type": "code",
   "execution_count": 22,
   "metadata": {},
   "outputs": [
    {
     "data": {
      "image/png": "[encoded data removed]",
      "text/plain": [
       "<Figure size 432x288 with 1 Axes>"
      ]
     },
     "metadata": {},
     "output_type": "display_data"
    }
   ],
   "source": [
    "'''\n",
    "    Plotting area under curve\n",
    "'''\n",
    "\n",
    "fpr, tpr, threshold = metrics.roc_curve(original_labels['Bought_brand'], new_prediction_labels['label'])\n",
    "roc_auc = metrics.auc(fpr, tpr)\n",
    "\n",
    "import matplotlib.pyplot as plt\n",
    "plt.title('Receiver Operating Characteristic')\n",
    "plt.plot(fpr, tpr, 'b', label = 'AUC = %0.2f' % roc_auc)\n",
    "plt.legend(loc = 'lower right')\n",
    "plt.plot([0, 1], [0, 1],'r--')\n",
    "plt.xlim([0, 1])\n",
    "plt.ylim([0, 1])\n",
    "plt.ylabel('True Positive Rate')\n",
    "plt.xlabel('False Positive Rate')\n",
    "plt.show()"
   ]
  }
 ],
 "metadata": {
  "kernelspec": {
   "display_name": "conda_python3",
   "language": "python",
   "name": "conda_python3"
  },
  "language_info": {
   "codemirror_mode": {
    "name": "ipython",
    "version": 3
   },
   "file_extension": ".py",
   "mimetype": "text/x-python",
   "name": "python",
   "nbconvert_exporter": "python",
   "pygments_lexer": "ipython3",
   "version": "3.6.5"
  }
 },
 "nbformat": 4,
 "nbformat_minor": 2
}
